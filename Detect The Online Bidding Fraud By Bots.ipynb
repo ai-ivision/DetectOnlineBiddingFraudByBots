{
 "cells": [
  {
   "cell_type": "markdown",
   "metadata": {},
   "source": [
    "## Problem Statement: Detecting Online Bidding Fraud by Bots\n",
    "\n",
    "## Domain: Cyber Sicurity\n",
    "\n",
    "### Context\n",
    "Online auction platforms have become prevalent, offering a marketplace where users can bid on various items ranging from collectibles to real estate. These platforms thrive on the authenticity and fairness of the bidding process. However, the rise of sophisticated bot technologies has introduced significant challenges, including fraudulent bidding activities. Bots can manipulate auction outcomes, inflate prices artificially, and outbid genuine users, undermining the integrity and trust of the platform.\n",
    "\n",
    "### Problem\n",
    "The primary issue is the detection of fraudulent bidding activities conducted by bots on online auction platforms. These bots are designed to mimic human behavior, making it difficult to distinguish between legitimate bids and automated ones. The challenge lies in developing robust detection mechanisms that can accurately identify and mitigate the impact of these bots without disrupting the experience for genuine users.\n",
    "\n",
    "### Objectives\n",
    "1. **Develop Detection Algorithms:** Create and implement algorithms capable of identifying bot activity based on bidding patterns, frequency, timing, and other relevant indicators.\n",
    "2. **Enhance Data Analysis:** Utilize machine learning and statistical analysis techniques to analyze large volumes of bidding data and detect anomalies indicative of bot activities.\n",
    "3. **Improve User Trust:** Ensure the detection system is effective in reducing fraudulent activities, thereby enhancing the trust and satisfaction of legitimate users.\n",
    "4. **Maintain Platform Integrity:** Protect the fairness and integrity of the auction process by preventing bots from manipulating outcomes.\n",
    "\n",
    "### Challenges\n",
    "1. **Sophistication of Bots:** Bots are increasingly sophisticated, often using machine learning techniques to mimic human bidding behaviors.\n",
    "2. **Volume of Data:** The high volume of bids processed on large auction platforms requires efficient and scalable analysis techniques.\n",
    "3. **Balancing Detection and User Experience:** Ensuring that detection mechanisms do not interfere with the experience of legitimate users while accurately identifying fraudulent activities.\n",
    "4. **Real-Time Detection:** The need for real-time detection to prevent bots from influencing ongoing auctions.\n",
    "\n",
    "### Desired Outcomes\n",
    "1. **Effective Bot Detection:** A high rate of accurate detection of bot activities with minimal false positives.\n",
    "2. **User Trust and Engagement:** Increased user trust and engagement due to the reduced presence of fraudulent activities.\n",
    "3. **Fair Auction Processes:** Enhanced fairness and transparency in the bidding process, ensuring genuine users have a fair chance to win auctions.\n",
    "4. **Continuous Improvement:** A detection system that evolves with emerging bot technologies to stay ahead of new threats.\n",
    "\n",
    "By addressing these objectives and challenges, the goal is to safeguard online auction platforms from the detrimental effects of bot-driven fraud, ensuring a secure, fair, and trustworthy environment for all users.\n"
   ]
  },
  {
   "cell_type": "markdown",
   "metadata": {},
   "source": [
    "### Importing Libraries"
   ]
  },
  {
   "cell_type": "code",
   "execution_count": 110,
   "metadata": {},
   "outputs": [],
   "source": [
    "# Besic Libraries\n",
    "import numpy as np\n",
    "import pandas as pd\n",
    "\n",
    "import warnings\n",
    "\n",
    "warnings.simplefilter('ignore')\n",
    "\n",
    "from IPython.core.interactiveshell import InteractiveShell\n",
    "\n",
    "InteractiveShell.ast_node_interactivity = \"all\""
   ]
  },
  {
   "cell_type": "code",
   "execution_count": 111,
   "metadata": {},
   "outputs": [],
   "source": [
    "# Data Preprocessing Libraries\n",
    "import datetime\n",
    "import re\n",
    "from sklearn.model_selection import train_test_split\n",
    "from sklearn.preprocessing import StandardScaler"
   ]
  },
  {
   "cell_type": "code",
   "execution_count": 112,
   "metadata": {},
   "outputs": [],
   "source": [
    "# Data Visualization Libraries\n",
    "import matplotlib.pyplot as plt\n",
    "import seaborn as sns\n",
    "\n",
    "# %matplotlib inline"
   ]
  },
  {
   "cell_type": "code",
   "execution_count": 113,
   "metadata": {},
   "outputs": [],
   "source": [
    "# Model \n",
    "from sklearn.tree import DecisionTreeClassifier\n",
    "from sklearn.ensemble import RandomForestClassifier, GradientBoostingClassifier\n",
    "from xgboost import XGBClassifier"
   ]
  },
  {
   "cell_type": "code",
   "execution_count": 114,
   "metadata": {},
   "outputs": [],
   "source": [
    "# Parameter Optimization\n",
    "from sklearn.model_selection import GridSearchCV"
   ]
  },
  {
   "cell_type": "code",
   "execution_count": 115,
   "metadata": {},
   "outputs": [],
   "source": [
    "# Validation \n",
    "from sklearn.metrics import accuracy_score, confusion_matrix, f1_score, precision_score, recall_score\n",
    "from sklearn.metrics import classification_report\n"
   ]
  },
  {
   "cell_type": "markdown",
   "metadata": {},
   "source": [
    "### Loading Datasets and EDA"
   ]
  },
  {
   "cell_type": "code",
   "execution_count": 116,
   "metadata": {},
   "outputs": [],
   "source": [
    "bids = pd.read_csv(\"./Data/Dataset/bids.csv\")\n",
    "train = pd.read_csv(\"./Data/Dataset/train.csv\")"
   ]
  },
  {
   "cell_type": "code",
   "execution_count": 117,
   "metadata": {},
   "outputs": [
    {
     "name": "stdout",
     "output_type": "stream",
     "text": [
      "The Shape of Bids dataset   :   (7656334, 9)\n",
      "The Shape of Train dataset : (2013, 4)\n"
     ]
    }
   ],
   "source": [
    "print(f\"The Shape of Bids dataset   :   {bids.shape}\")\n",
    "print(f\"The Shape of Train dataset : {train.shape}\")"
   ]
  },
  {
   "cell_type": "code",
   "execution_count": 118,
   "metadata": {},
   "outputs": [
    {
     "data": {
      "text/html": [
       "<div>\n",
       "<style scoped>\n",
       "    .dataframe tbody tr th:only-of-type {\n",
       "        vertical-align: middle;\n",
       "    }\n",
       "\n",
       "    .dataframe tbody tr th {\n",
       "        vertical-align: top;\n",
       "    }\n",
       "\n",
       "    .dataframe thead th {\n",
       "        text-align: right;\n",
       "    }\n",
       "</style>\n",
       "<table border=\"1\" class=\"dataframe\">\n",
       "  <thead>\n",
       "    <tr style=\"text-align: right;\">\n",
       "      <th></th>\n",
       "      <th>bid_id</th>\n",
       "      <th>bidder_id</th>\n",
       "      <th>auction</th>\n",
       "      <th>merchandise</th>\n",
       "      <th>device</th>\n",
       "      <th>time</th>\n",
       "      <th>country</th>\n",
       "      <th>ip</th>\n",
       "      <th>url</th>\n",
       "    </tr>\n",
       "  </thead>\n",
       "  <tbody>\n",
       "    <tr>\n",
       "      <th>0</th>\n",
       "      <td>0</td>\n",
       "      <td>8dac2b259fd1c6d1120e519fb1ac14fbqvax8</td>\n",
       "      <td>ewmzr</td>\n",
       "      <td>jewelry</td>\n",
       "      <td>phone0</td>\n",
       "      <td>9759243157894736</td>\n",
       "      <td>us</td>\n",
       "      <td>69.166.231.58</td>\n",
       "      <td>vasstdc27m7nks3</td>\n",
       "    </tr>\n",
       "    <tr>\n",
       "      <th>1</th>\n",
       "      <td>1</td>\n",
       "      <td>668d393e858e8126275433046bbd35c6tywop</td>\n",
       "      <td>aeqok</td>\n",
       "      <td>furniture</td>\n",
       "      <td>phone1</td>\n",
       "      <td>9759243157894736</td>\n",
       "      <td>in</td>\n",
       "      <td>50.201.125.84</td>\n",
       "      <td>jmqlhflrzwuay9c</td>\n",
       "    </tr>\n",
       "    <tr>\n",
       "      <th>2</th>\n",
       "      <td>2</td>\n",
       "      <td>aa5f360084278b35d746fa6af3a7a1a5ra3xe</td>\n",
       "      <td>wa00e</td>\n",
       "      <td>home goods</td>\n",
       "      <td>phone2</td>\n",
       "      <td>9759243157894736</td>\n",
       "      <td>py</td>\n",
       "      <td>112.54.208.157</td>\n",
       "      <td>vasstdc27m7nks3</td>\n",
       "    </tr>\n",
       "    <tr>\n",
       "      <th>3</th>\n",
       "      <td>3</td>\n",
       "      <td>3939ac3ef7d472a59a9c5f893dd3e39fh9ofi</td>\n",
       "      <td>jefix</td>\n",
       "      <td>jewelry</td>\n",
       "      <td>phone4</td>\n",
       "      <td>9759243157894736</td>\n",
       "      <td>in</td>\n",
       "      <td>18.99.175.133</td>\n",
       "      <td>vasstdc27m7nks3</td>\n",
       "    </tr>\n",
       "    <tr>\n",
       "      <th>4</th>\n",
       "      <td>4</td>\n",
       "      <td>8393c48eaf4b8fa96886edc7cf27b372dsibi</td>\n",
       "      <td>jefix</td>\n",
       "      <td>jewelry</td>\n",
       "      <td>phone5</td>\n",
       "      <td>9759243157894736</td>\n",
       "      <td>in</td>\n",
       "      <td>145.138.5.37</td>\n",
       "      <td>vasstdc27m7nks3</td>\n",
       "    </tr>\n",
       "  </tbody>\n",
       "</table>\n",
       "</div>"
      ],
      "text/plain": [
       "   bid_id                              bidder_id auction merchandise  device  \\\n",
       "0       0  8dac2b259fd1c6d1120e519fb1ac14fbqvax8   ewmzr     jewelry  phone0   \n",
       "1       1  668d393e858e8126275433046bbd35c6tywop   aeqok   furniture  phone1   \n",
       "2       2  aa5f360084278b35d746fa6af3a7a1a5ra3xe   wa00e  home goods  phone2   \n",
       "3       3  3939ac3ef7d472a59a9c5f893dd3e39fh9ofi   jefix     jewelry  phone4   \n",
       "4       4  8393c48eaf4b8fa96886edc7cf27b372dsibi   jefix     jewelry  phone5   \n",
       "\n",
       "               time country              ip              url  \n",
       "0  9759243157894736      us   69.166.231.58  vasstdc27m7nks3  \n",
       "1  9759243157894736      in   50.201.125.84  jmqlhflrzwuay9c  \n",
       "2  9759243157894736      py  112.54.208.157  vasstdc27m7nks3  \n",
       "3  9759243157894736      in   18.99.175.133  vasstdc27m7nks3  \n",
       "4  9759243157894736      in    145.138.5.37  vasstdc27m7nks3  "
      ]
     },
     "execution_count": 118,
     "metadata": {},
     "output_type": "execute_result"
    }
   ],
   "source": [
    "bids.head()"
   ]
  },
  {
   "cell_type": "code",
   "execution_count": 119,
   "metadata": {},
   "outputs": [
    {
     "data": {
      "text/html": [
       "<div>\n",
       "<style scoped>\n",
       "    .dataframe tbody tr th:only-of-type {\n",
       "        vertical-align: middle;\n",
       "    }\n",
       "\n",
       "    .dataframe tbody tr th {\n",
       "        vertical-align: top;\n",
       "    }\n",
       "\n",
       "    .dataframe thead th {\n",
       "        text-align: right;\n",
       "    }\n",
       "</style>\n",
       "<table border=\"1\" class=\"dataframe\">\n",
       "  <thead>\n",
       "    <tr style=\"text-align: right;\">\n",
       "      <th></th>\n",
       "      <th>bidder_id</th>\n",
       "      <th>payment_account</th>\n",
       "      <th>address</th>\n",
       "      <th>outcome</th>\n",
       "    </tr>\n",
       "  </thead>\n",
       "  <tbody>\n",
       "    <tr>\n",
       "      <th>0</th>\n",
       "      <td>91a3c57b13234af24875c56fb7e2b2f4rb56a</td>\n",
       "      <td>a3d2de7675556553a5f08e4c88d2c228754av</td>\n",
       "      <td>a3d2de7675556553a5f08e4c88d2c228vt0u4</td>\n",
       "      <td>0.0</td>\n",
       "    </tr>\n",
       "    <tr>\n",
       "      <th>1</th>\n",
       "      <td>624f258b49e77713fc34034560f93fb3hu3jo</td>\n",
       "      <td>a3d2de7675556553a5f08e4c88d2c228v1sga</td>\n",
       "      <td>ae87054e5a97a8f840a3991d12611fdcrfbq3</td>\n",
       "      <td>0.0</td>\n",
       "    </tr>\n",
       "    <tr>\n",
       "      <th>2</th>\n",
       "      <td>1c5f4fc669099bfbfac515cd26997bd12ruaj</td>\n",
       "      <td>a3d2de7675556553a5f08e4c88d2c2280cybl</td>\n",
       "      <td>92520288b50f03907041887884ba49c0cl0pd</td>\n",
       "      <td>0.0</td>\n",
       "    </tr>\n",
       "    <tr>\n",
       "      <th>3</th>\n",
       "      <td>4bee9aba2abda51bf43d639013d6efe12iycd</td>\n",
       "      <td>51d80e233f7b6a7dfdee484a3c120f3b2ita8</td>\n",
       "      <td>4cb9717c8ad7e88a9a284989dd79b98dbevyi</td>\n",
       "      <td>0.0</td>\n",
       "    </tr>\n",
       "    <tr>\n",
       "      <th>4</th>\n",
       "      <td>4ab12bc61c82ddd9c2d65e60555808acqgos1</td>\n",
       "      <td>a3d2de7675556553a5f08e4c88d2c22857ddh</td>\n",
       "      <td>2a96c3ce94b3be921e0296097b88b56a7x1ji</td>\n",
       "      <td>0.0</td>\n",
       "    </tr>\n",
       "  </tbody>\n",
       "</table>\n",
       "</div>"
      ],
      "text/plain": [
       "                               bidder_id  \\\n",
       "0  91a3c57b13234af24875c56fb7e2b2f4rb56a   \n",
       "1  624f258b49e77713fc34034560f93fb3hu3jo   \n",
       "2  1c5f4fc669099bfbfac515cd26997bd12ruaj   \n",
       "3  4bee9aba2abda51bf43d639013d6efe12iycd   \n",
       "4  4ab12bc61c82ddd9c2d65e60555808acqgos1   \n",
       "\n",
       "                         payment_account  \\\n",
       "0  a3d2de7675556553a5f08e4c88d2c228754av   \n",
       "1  a3d2de7675556553a5f08e4c88d2c228v1sga   \n",
       "2  a3d2de7675556553a5f08e4c88d2c2280cybl   \n",
       "3  51d80e233f7b6a7dfdee484a3c120f3b2ita8   \n",
       "4  a3d2de7675556553a5f08e4c88d2c22857ddh   \n",
       "\n",
       "                                 address  outcome  \n",
       "0  a3d2de7675556553a5f08e4c88d2c228vt0u4      0.0  \n",
       "1  ae87054e5a97a8f840a3991d12611fdcrfbq3      0.0  \n",
       "2  92520288b50f03907041887884ba49c0cl0pd      0.0  \n",
       "3  4cb9717c8ad7e88a9a284989dd79b98dbevyi      0.0  \n",
       "4  2a96c3ce94b3be921e0296097b88b56a7x1ji      0.0  "
      ]
     },
     "execution_count": 119,
     "metadata": {},
     "output_type": "execute_result"
    }
   ],
   "source": [
    "train.head()"
   ]
  },
  {
   "cell_type": "code",
   "execution_count": 120,
   "metadata": {},
   "outputs": [],
   "source": [
    "# Let's marge the both datasets\n",
    "bids_df = pd.merge(train, bids, on=\"bidder_id\", how=\"left\")"
   ]
  },
  {
   "cell_type": "code",
   "execution_count": 121,
   "metadata": {},
   "outputs": [
    {
     "name": "stdout",
     "output_type": "stream",
     "text": [
      "The Shape of New dataset   :   (3071253, 12)\n"
     ]
    }
   ],
   "source": [
    "print(f\"The Shape of New dataset   :   {bids_df.shape}\")"
   ]
  },
  {
   "cell_type": "code",
   "execution_count": 122,
   "metadata": {},
   "outputs": [
    {
     "name": "stdout",
     "output_type": "stream",
     "text": [
      "<class 'pandas.core.frame.DataFrame'>\n",
      "RangeIndex: 3071253 entries, 0 to 3071252\n",
      "Data columns (total 12 columns):\n",
      " #   Column           Dtype  \n",
      "---  ------           -----  \n",
      " 0   bidder_id        object \n",
      " 1   payment_account  object \n",
      " 2   address          object \n",
      " 3   outcome          float64\n",
      " 4   bid_id           float64\n",
      " 5   auction          object \n",
      " 6   merchandise      object \n",
      " 7   device           object \n",
      " 8   time             float64\n",
      " 9   country          object \n",
      " 10  ip               object \n",
      " 11  url              object \n",
      "dtypes: float64(3), object(9)\n",
      "memory usage: 281.2+ MB\n"
     ]
    }
   ],
   "source": [
    "bids_df.info()"
   ]
  },
  {
   "cell_type": "code",
   "execution_count": 123,
   "metadata": {},
   "outputs": [
    {
     "data": {
      "text/html": [
       "<div>\n",
       "<style scoped>\n",
       "    .dataframe tbody tr th:only-of-type {\n",
       "        vertical-align: middle;\n",
       "    }\n",
       "\n",
       "    .dataframe tbody tr th {\n",
       "        vertical-align: top;\n",
       "    }\n",
       "\n",
       "    .dataframe thead th {\n",
       "        text-align: right;\n",
       "    }\n",
       "</style>\n",
       "<table border=\"1\" class=\"dataframe\">\n",
       "  <thead>\n",
       "    <tr style=\"text-align: right;\">\n",
       "      <th></th>\n",
       "      <th>outcome</th>\n",
       "      <th>bid_id</th>\n",
       "      <th>time</th>\n",
       "    </tr>\n",
       "  </thead>\n",
       "  <tbody>\n",
       "    <tr>\n",
       "      <th>count</th>\n",
       "      <td>3.071253e+06</td>\n",
       "      <td>3.071224e+06</td>\n",
       "      <td>3.071224e+06</td>\n",
       "    </tr>\n",
       "    <tr>\n",
       "      <th>mean</th>\n",
       "      <td>1.342827e-01</td>\n",
       "      <td>3.838444e+06</td>\n",
       "      <td>9.696606e+15</td>\n",
       "    </tr>\n",
       "    <tr>\n",
       "      <th>std</th>\n",
       "      <td>3.409558e-01</td>\n",
       "      <td>2.191845e+06</td>\n",
       "      <td>5.256340e+13</td>\n",
       "    </tr>\n",
       "    <tr>\n",
       "      <th>min</th>\n",
       "      <td>0.000000e+00</td>\n",
       "      <td>1.000000e+00</td>\n",
       "      <td>9.631917e+15</td>\n",
       "    </tr>\n",
       "    <tr>\n",
       "      <th>25%</th>\n",
       "      <td>0.000000e+00</td>\n",
       "      <td>1.946030e+06</td>\n",
       "      <td>9.640958e+15</td>\n",
       "    </tr>\n",
       "    <tr>\n",
       "      <th>50%</th>\n",
       "      <td>0.000000e+00</td>\n",
       "      <td>3.836413e+06</td>\n",
       "      <td>9.700339e+15</td>\n",
       "    </tr>\n",
       "    <tr>\n",
       "      <th>75%</th>\n",
       "      <td>0.000000e+00</td>\n",
       "      <td>5.707636e+06</td>\n",
       "      <td>9.761303e+15</td>\n",
       "    </tr>\n",
       "    <tr>\n",
       "      <th>max</th>\n",
       "      <td>1.000000e+00</td>\n",
       "      <td>7.656331e+06</td>\n",
       "      <td>9.772885e+15</td>\n",
       "    </tr>\n",
       "  </tbody>\n",
       "</table>\n",
       "</div>"
      ],
      "text/plain": [
       "            outcome        bid_id          time\n",
       "count  3.071253e+06  3.071224e+06  3.071224e+06\n",
       "mean   1.342827e-01  3.838444e+06  9.696606e+15\n",
       "std    3.409558e-01  2.191845e+06  5.256340e+13\n",
       "min    0.000000e+00  1.000000e+00  9.631917e+15\n",
       "25%    0.000000e+00  1.946030e+06  9.640958e+15\n",
       "50%    0.000000e+00  3.836413e+06  9.700339e+15\n",
       "75%    0.000000e+00  5.707636e+06  9.761303e+15\n",
       "max    1.000000e+00  7.656331e+06  9.772885e+15"
      ]
     },
     "execution_count": 123,
     "metadata": {},
     "output_type": "execute_result"
    }
   ],
   "source": [
    "bids_df.describe()"
   ]
  },
  {
   "cell_type": "code",
   "execution_count": 124,
   "metadata": {},
   "outputs": [
    {
     "data": {
      "text/plain": [
       "2933"
      ]
     },
     "execution_count": 124,
     "metadata": {},
     "output_type": "execute_result"
    }
   ],
   "source": [
    "bids_df.isnull().sum().sum()"
   ]
  },
  {
   "cell_type": "code",
   "execution_count": 125,
   "metadata": {},
   "outputs": [
    {
     "data": {
      "text/plain": [
       "bidder_id             0\n",
       "payment_account       0\n",
       "address               0\n",
       "outcome               0\n",
       "bid_id               29\n",
       "auction              29\n",
       "merchandise          29\n",
       "device               29\n",
       "time                 29\n",
       "country            2730\n",
       "ip                   29\n",
       "url                  29\n",
       "dtype: int64"
      ]
     },
     "execution_count": 125,
     "metadata": {},
     "output_type": "execute_result"
    }
   ],
   "source": [
    "bids_df.isnull().sum()"
   ]
  },
  {
   "cell_type": "code",
   "execution_count": 126,
   "metadata": {},
   "outputs": [
    {
     "data": {
      "text/plain": [
       "Index(['bidder_id', 'payment_account', 'address', 'outcome', 'bid_id',\n",
       "       'auction', 'merchandise', 'device', 'time', 'country', 'ip', 'url'],\n",
       "      dtype='object')"
      ]
     },
     "execution_count": 126,
     "metadata": {},
     "output_type": "execute_result"
    }
   ],
   "source": [
    "bids_df.columns"
   ]
  },
  {
   "cell_type": "code",
   "execution_count": 127,
   "metadata": {},
   "outputs": [
    {
     "name": "stdout",
     "output_type": "stream",
     "text": [
      "Number of unique bidder_ids with no bids: 29\n"
     ]
    }
   ],
   "source": [
    "nobids_train = bids_df[pd.isnull(bids_df['bid_id'])]['bidder_id'].unique()\n",
    "\n",
    "print(f\"Number of unique bidder_ids with no bids: {len(nobids_train)}\")"
   ]
  },
  {
   "cell_type": "code",
   "execution_count": 128,
   "metadata": {},
   "outputs": [
    {
     "name": "stdout",
     "output_type": "stream",
     "text": [
      "bidder_id          False\n",
      "payment_account    False\n",
      "address            False\n",
      "outcome            False\n",
      "bid_id             False\n",
      "auction            False\n",
      "merchandise        False\n",
      "device             False\n",
      "time               False\n",
      "country             True\n",
      "ip                 False\n",
      "url                False\n",
      "dtype: bool\n"
     ]
    }
   ],
   "source": [
    "# for all the missing values observations, drop it\n",
    "bid = bids_df[~bids_df['bidder_id'].isin(nobids_train)]\n",
    "\n",
    "print(pd.isnull(bid).any())"
   ]
  },
  {
   "cell_type": "code",
   "execution_count": 129,
   "metadata": {},
   "outputs": [
    {
     "name": "stdout",
     "output_type": "stream",
     "text": [
      "8.794539245590682 % obserbations missing country data.\n"
     ]
    }
   ],
   "source": [
    "# check the missing value ratio of the country entry\n",
    "count_missing_values_ratio = pd.isnull(bid['country']).sum() / len(bid) * 100\n",
    "\n",
    "print(f\"{count_missing_values_ratio  * 100} % obserbations missing country data.\")"
   ]
  },
  {
   "cell_type": "code",
   "execution_count": 130,
   "metadata": {},
   "outputs": [
    {
     "name": "stdout",
     "output_type": "stream",
     "text": [
      "bidder_id          False\n",
      "payment_account    False\n",
      "address            False\n",
      "outcome            False\n",
      "bid_id             False\n",
      "auction            False\n",
      "merchandise        False\n",
      "device             False\n",
      "time               False\n",
      "country            False\n",
      "ip                 False\n",
      "url                False\n",
      "dtype: bool\n"
     ]
    }
   ],
   "source": [
    "# for all the missing value observation, drop it\n",
    "bid = bid.dropna()\n",
    "\n",
    "print(pd.isnull(bid).any())"
   ]
  },
  {
   "cell_type": "code",
   "execution_count": 131,
   "metadata": {},
   "outputs": [
    {
     "name": "stdout",
     "output_type": "stream",
     "text": [
      "Total rows in bid    :    3068523\n",
      "Total bids in bid     :    3068523\n",
      "Total bidder in bids     :    1983\n",
      "Total payments in bids     :    1983\n",
      "Total address in bids    :    1983\n",
      "Total auctions in bids  :    12740\n",
      "Total merchandise in bid    :    10\n",
      "total device in bids:      5726\n",
      "total country in bids:     198\n",
      "total ip in bids:          1028810\n",
      "total url in bids:         663265\n"
     ]
    }
   ],
   "source": [
    "# Check the unique number of each features\n",
    "\n",
    "print(f\"Total rows in bid    :    {len( bid)}\")\n",
    "print(f\"Total bids in bid     :    {len(bid['bid_id'].unique())}\")\n",
    "print(f\"Total bidder in bids     :    {len(bid['bidder_id'].unique())}\")\n",
    "print(f\"Total payments in bids     :    {len(bid['payment_account'].unique())}\")\n",
    "print(f\"Total address in bids    :    {len(bid['address'].unique())}\")\n",
    "print(f\"Total auctions in bids  :    {len(bid['auction'].unique())}\")\n",
    "print(f\"Total merchandise in bid    :    {len(bid['merchandise'].unique())}\")\n",
    "print(f\"total device in bids:      {len(bid['device'].unique())}\")\n",
    "print(f\"total country in bids:     {len(bid['country'].unique())}\")\n",
    "print(f\"total ip in bids:          {len(bid['ip'].unique())}\")\n",
    "print(f\"total url in bids:         {len(bid['url'].unique())}\")"
   ]
  },
  {
   "cell_type": "code",
   "execution_count": 132,
   "metadata": {},
   "outputs": [
    {
     "name": "stdout",
     "output_type": "stream",
     "text": [
      "total bids made by robots in data set: 412153\n",
      "total bids made by human in data set:  2656370\n"
     ]
    }
   ],
   "source": [
    "print(\n",
    "    f\"total bids made by robots in data set: {len(bid[bid['outcome'] == 1])}\")\n",
    "print(\n",
    "    f\"total bids made by human in data set:  {len(bid[bid['outcome'] == 0])}\")"
   ]
  },
  {
   "cell_type": "code",
   "execution_count": 133,
   "metadata": {},
   "outputs": [
    {
     "data": {
      "text/plain": [
       "(3068523, 12)"
      ]
     },
     "execution_count": 133,
     "metadata": {},
     "output_type": "execute_result"
    }
   ],
   "source": [
    "bid.shape"
   ]
  },
  {
   "cell_type": "code",
   "execution_count": 134,
   "metadata": {},
   "outputs": [
    {
     "data": {
      "text/plain": [
       "outcome\n",
       "0.0    2656370\n",
       "1.0     412153\n",
       "Name: count, dtype: int64"
      ]
     },
     "execution_count": 134,
     "metadata": {},
     "output_type": "execute_result"
    }
   ],
   "source": [
    "bid['outcome'].value_counts()"
   ]
  },
  {
   "cell_type": "code",
   "execution_count": 135,
   "metadata": {},
   "outputs": [
    {
     "name": "stdout",
     "output_type": "stream",
     "text": [
      "average bids per robot: 4001\n",
      "average bids per human:  1413\n",
      "average bids per auction by robot: 64\n",
      "average bids per auction by human:  217\n",
      "average bids per device by robot: 134\n",
      "average bids per device by human:  516\n",
      "average bids per ip by robots: 1.79\n",
      "average bids per ip by human:  3.19\n",
      "average bids per url by robot: 7.52\n",
      "average bids per url by human:  4.36\n"
     ]
    }
   ],
   "source": [
    "print(f\"average bids per robot: %.0f\" % float(len(\n",
    "    bid[bid['outcome'] == 1])/len(bid[bid['outcome'] == 1]['bidder_id'].unique())))\n",
    "print(f\"average bids per human:  %.0f\" % float(len(\n",
    "    bid[bid['outcome'] == 0])/len(bid[bid['outcome'] == 0]['bidder_id'].unique())))\n",
    "print(f\"average bids per auction by robot: %.0f\" % float(\n",
    "    len(bid[bid['outcome'] == 1])/len(bid[bid['outcome'] == 1]['auction'].unique())))\n",
    "print(f\"average bids per auction by human:  %.0f\" % float(\n",
    "    len(bid[bid['outcome'] == 0])/len(bid[bid['outcome'] == 0]['auction'].unique())))\n",
    "print(f\"average bids per device by robot: %.0f\" % float(\n",
    "    len(bid[bid['outcome'] == 1])/len(bid[bid['outcome'] == 1]['device'].unique())))\n",
    "print(f\"average bids per device by human:  %.0f\" % float(\n",
    "    len(bid[bid['outcome'] == 0])/len(bid[bid['outcome'] == 0]['device'].unique())))\n",
    "print(f\"average bids per ip by robots: %.2f\" % float(\n",
    "    len(bid[bid['outcome'] == 1])/len(bid[bid['outcome'] == 1]['ip'].unique())))\n",
    "print(f\"average bids per ip by human:  %.2f\" % float(\n",
    "    len(bid[bid['outcome'] == 0])/len(bid[bid['outcome'] == 0]['ip'].unique())))\n",
    "print(f\"average bids per url by robot: %.2f\" % float(\n",
    "    len(bid[bid['outcome'] == 1])/len(bid[bid['outcome'] == 1]['url'].unique())))\n",
    "print(f\"average bids per url by human:  %.2f\" % float(\n",
    "    len(bid[bid['outcome'] == 0])/len(bid[bid['outcome'] == 0]['url'].unique())))"
   ]
  },
  {
   "cell_type": "code",
   "execution_count": 136,
   "metadata": {},
   "outputs": [
    {
     "name": "stdout",
     "output_type": "stream",
     "text": [
      "<class 'pandas.core.frame.DataFrame'>\n",
      "Index: 3068523 entries, 0 to 3071252\n",
      "Data columns (total 12 columns):\n",
      " #   Column           Dtype  \n",
      "---  ------           -----  \n",
      " 0   bidder_id        object \n",
      " 1   payment_account  object \n",
      " 2   address          object \n",
      " 3   outcome          float64\n",
      " 4   bid_id           float64\n",
      " 5   auction          object \n",
      " 6   merchandise      object \n",
      " 7   device           object \n",
      " 8   time             float64\n",
      " 9   country          object \n",
      " 10  ip               object \n",
      " 11  url              object \n",
      "dtypes: float64(3), object(9)\n",
      "memory usage: 304.3+ MB\n"
     ]
    }
   ],
   "source": [
    "bid.info()"
   ]
  },
  {
   "cell_type": "code",
   "execution_count": 137,
   "metadata": {},
   "outputs": [],
   "source": [
    "bid.to_csv(\"./Data/Dataset/Cleaned_bids.csv\", index=False)"
   ]
  },
  {
   "cell_type": "markdown",
   "metadata": {},
   "source": [
    "### Feature Engineering and Feature Creation"
   ]
  },
  {
   "cell_type": "code",
   "execution_count": 138,
   "metadata": {},
   "outputs": [],
   "source": [
    "import scipy.stats\n"
   ]
  },
  {
   "cell_type": "code",
   "execution_count": 139,
   "metadata": {},
   "outputs": [],
   "source": [
    "def calculate_dataframe_entropy(data):\n",
    "    \"\"\"\n",
    "    Calculate the entropy\n",
    "\n",
    "    Parameters\n",
    "    ----------\n",
    "    data : dataframe\n",
    "        a DataFrame containing original data\n",
    "\n",
    "    Returns\n",
    "    -------\n",
    "    output: float\n",
    "        computed entropy \n",
    "\n",
    "    Notes\n",
    "    -----\n",
    "    entropy is calculated with the following steps:\n",
    "        1. compute the probabilities\n",
    "        2. fit in the entropy formula\n",
    "    \"\"\"\n",
    "\n",
    "    # calculates the probabilities\n",
    "    p_data = data.value_counts() / len(data)\n",
    "\n",
    "    # input probabilities to get the entropy\n",
    "    entropy = scipy.stats.entropy(p_data)\n",
    "    \n",
    "    # returning the entropy\n",
    "    return entropy\n"
   ]
  },
  {
   "cell_type": "code",
   "execution_count": 140,
   "metadata": {},
   "outputs": [],
   "source": [
    "bid = bid.sort_values(by=['time'])"
   ]
  },
  {
   "cell_type": "code",
   "execution_count": 141,
   "metadata": {},
   "outputs": [],
   "source": [
    "# number of bids a user per auction\n",
    "bids_per_auction = bid.groupby(['auction', 'bidder_id']).size()\n",
    "bids_per_auction = bids_per_auction.to_frame(name='bids_per_auction')"
   ]
  },
  {
   "cell_type": "code",
   "execution_count": 142,
   "metadata": {},
   "outputs": [
    {
     "data": {
      "text/html": [
       "<div>\n",
       "<style scoped>\n",
       "    .dataframe tbody tr th:only-of-type {\n",
       "        vertical-align: middle;\n",
       "    }\n",
       "\n",
       "    .dataframe tbody tr th {\n",
       "        vertical-align: top;\n",
       "    }\n",
       "\n",
       "    .dataframe thead th {\n",
       "        text-align: right;\n",
       "    }\n",
       "</style>\n",
       "<table border=\"1\" class=\"dataframe\">\n",
       "  <thead>\n",
       "    <tr style=\"text-align: right;\">\n",
       "      <th></th>\n",
       "      <th></th>\n",
       "      <th>bids_per_auction</th>\n",
       "    </tr>\n",
       "    <tr>\n",
       "      <th>auction</th>\n",
       "      <th>bidder_id</th>\n",
       "      <th></th>\n",
       "    </tr>\n",
       "  </thead>\n",
       "  <tbody>\n",
       "    <tr>\n",
       "      <th rowspan=\"5\" valign=\"top\">00270</th>\n",
       "      <th>2d38a6af2ce96c1446f900aa4756b8975y9k3</th>\n",
       "      <td>5</td>\n",
       "    </tr>\n",
       "    <tr>\n",
       "      <th>384ba7c5a8ccf55d174080d9ad7de9b8mfysi</th>\n",
       "      <td>1</td>\n",
       "    </tr>\n",
       "    <tr>\n",
       "      <th>5dda8ade6b5d4065f3119a381516c227yoz8y</th>\n",
       "      <td>2</td>\n",
       "    </tr>\n",
       "    <tr>\n",
       "      <th>84c4b58a1491da3a30710bcdf61f87054xfq6</th>\n",
       "      <td>7</td>\n",
       "    </tr>\n",
       "    <tr>\n",
       "      <th>9655ccc7c0c193f1549475f02c54dce45kjw7</th>\n",
       "      <td>827</td>\n",
       "    </tr>\n",
       "    <tr>\n",
       "      <th>...</th>\n",
       "      <th>...</th>\n",
       "      <td>...</td>\n",
       "    </tr>\n",
       "    <tr>\n",
       "      <th rowspan=\"5\" valign=\"top\">zzzy7</th>\n",
       "      <th>76ed824b414b5e690ff82e7cd2f5be52256my</th>\n",
       "      <td>1</td>\n",
       "    </tr>\n",
       "    <tr>\n",
       "      <th>8251041848182e6468c8119905a177dekmshg</th>\n",
       "      <td>1</td>\n",
       "    </tr>\n",
       "    <tr>\n",
       "      <th>bc3d08ad6ac94b8b5ce40a29b59899cakj3p5</th>\n",
       "      <td>2</td>\n",
       "    </tr>\n",
       "    <tr>\n",
       "      <th>c5863a228287327c9980d12a632985da9vi29</th>\n",
       "      <td>7</td>\n",
       "    </tr>\n",
       "    <tr>\n",
       "      <th>e9c8ee7f783723fe8496dd35232d88f2or1r1</th>\n",
       "      <td>3</td>\n",
       "    </tr>\n",
       "  </tbody>\n",
       "</table>\n",
       "<p>124165 rows × 1 columns</p>\n",
       "</div>"
      ],
      "text/plain": [
       "                                               bids_per_auction\n",
       "auction bidder_id                                              \n",
       "00270   2d38a6af2ce96c1446f900aa4756b8975y9k3                 5\n",
       "        384ba7c5a8ccf55d174080d9ad7de9b8mfysi                 1\n",
       "        5dda8ade6b5d4065f3119a381516c227yoz8y                 2\n",
       "        84c4b58a1491da3a30710bcdf61f87054xfq6                 7\n",
       "        9655ccc7c0c193f1549475f02c54dce45kjw7               827\n",
       "...                                                         ...\n",
       "zzzy7   76ed824b414b5e690ff82e7cd2f5be52256my                 1\n",
       "        8251041848182e6468c8119905a177dekmshg                 1\n",
       "        bc3d08ad6ac94b8b5ce40a29b59899cakj3p5                 2\n",
       "        c5863a228287327c9980d12a632985da9vi29                 7\n",
       "        e9c8ee7f783723fe8496dd35232d88f2or1r1                 3\n",
       "\n",
       "[124165 rows x 1 columns]"
      ]
     },
     "execution_count": 142,
     "metadata": {},
     "output_type": "execute_result"
    }
   ],
   "source": [
    "bids_per_auction"
   ]
  },
  {
   "cell_type": "code",
   "execution_count": 143,
   "metadata": {},
   "outputs": [],
   "source": [
    "# number of bids per device\n",
    "bids_per_device = bid.groupby(['device', 'bidder_id']).size()\n",
    "bids_per_device = bids_per_device.to_frame(name='bids_per_device')"
   ]
  },
  {
   "cell_type": "code",
   "execution_count": 144,
   "metadata": {},
   "outputs": [
    {
     "data": {
      "text/html": [
       "<div>\n",
       "<style scoped>\n",
       "    .dataframe tbody tr th:only-of-type {\n",
       "        vertical-align: middle;\n",
       "    }\n",
       "\n",
       "    .dataframe tbody tr th {\n",
       "        vertical-align: top;\n",
       "    }\n",
       "\n",
       "    .dataframe thead th {\n",
       "        text-align: right;\n",
       "    }\n",
       "</style>\n",
       "<table border=\"1\" class=\"dataframe\">\n",
       "  <thead>\n",
       "    <tr style=\"text-align: right;\">\n",
       "      <th></th>\n",
       "      <th></th>\n",
       "      <th>bids_per_device</th>\n",
       "    </tr>\n",
       "    <tr>\n",
       "      <th>device</th>\n",
       "      <th>bidder_id</th>\n",
       "      <th></th>\n",
       "    </tr>\n",
       "  </thead>\n",
       "  <tbody>\n",
       "    <tr>\n",
       "      <th rowspan=\"5\" valign=\"top\">phone0</th>\n",
       "      <th>0318e0a173f7c65db40116b903884c854x258</th>\n",
       "      <td>7</td>\n",
       "    </tr>\n",
       "    <tr>\n",
       "      <th>037d9f10da403d8d5f94b6e2957a3702f6x07</th>\n",
       "      <td>17</td>\n",
       "    </tr>\n",
       "    <tr>\n",
       "      <th>03aafab9868455b78f0723eda86698ba9v9rm</th>\n",
       "      <td>21</td>\n",
       "    </tr>\n",
       "    <tr>\n",
       "      <th>047558bebab9292a5d4c85d6ee768784j2hdd</th>\n",
       "      <td>59</td>\n",
       "    </tr>\n",
       "    <tr>\n",
       "      <th>054b51d059fe981ca8cc4e0d4c49aabb5mck7</th>\n",
       "      <td>3</td>\n",
       "    </tr>\n",
       "    <tr>\n",
       "      <th>...</th>\n",
       "      <th>...</th>\n",
       "      <td>...</td>\n",
       "    </tr>\n",
       "    <tr>\n",
       "      <th rowspan=\"5\" valign=\"top\">phone999</th>\n",
       "      <th>e8291466de91b0eb4e1515143c7f74dexy2yr</th>\n",
       "      <td>1</td>\n",
       "    </tr>\n",
       "    <tr>\n",
       "      <th>e9c8ee7f783723fe8496dd35232d88f2or1r1</th>\n",
       "      <td>1</td>\n",
       "    </tr>\n",
       "    <tr>\n",
       "      <th>ec0c9e98cdf302274974ad212477f851iw35b</th>\n",
       "      <td>1</td>\n",
       "    </tr>\n",
       "    <tr>\n",
       "      <th>f5b2bbad20d1d7ded3ed960393bec0f40u6hn</th>\n",
       "      <td>112</td>\n",
       "    </tr>\n",
       "    <tr>\n",
       "      <th>f8c42ccd10c3fe515e53082f0cde9a18oxgws</th>\n",
       "      <td>6</td>\n",
       "    </tr>\n",
       "  </tbody>\n",
       "</table>\n",
       "<p>155796 rows × 1 columns</p>\n",
       "</div>"
      ],
      "text/plain": [
       "                                                bids_per_device\n",
       "device   bidder_id                                             \n",
       "phone0   0318e0a173f7c65db40116b903884c854x258                7\n",
       "         037d9f10da403d8d5f94b6e2957a3702f6x07               17\n",
       "         03aafab9868455b78f0723eda86698ba9v9rm               21\n",
       "         047558bebab9292a5d4c85d6ee768784j2hdd               59\n",
       "         054b51d059fe981ca8cc4e0d4c49aabb5mck7                3\n",
       "...                                                         ...\n",
       "phone999 e8291466de91b0eb4e1515143c7f74dexy2yr                1\n",
       "         e9c8ee7f783723fe8496dd35232d88f2or1r1                1\n",
       "         ec0c9e98cdf302274974ad212477f851iw35b                1\n",
       "         f5b2bbad20d1d7ded3ed960393bec0f40u6hn              112\n",
       "         f8c42ccd10c3fe515e53082f0cde9a18oxgws                6\n",
       "\n",
       "[155796 rows x 1 columns]"
      ]
     },
     "execution_count": 144,
     "metadata": {},
     "output_type": "execute_result"
    }
   ],
   "source": [
    "bids_per_device"
   ]
  },
  {
   "cell_type": "code",
   "execution_count": 145,
   "metadata": {},
   "outputs": [],
   "source": [
    "# proportion of bots for each country\n",
    "pbots_country = bid[bid['outcome'] == 1].groupby('country').size() / bid.groupby('country').size()\n",
    "pbots_country = pbots_country.fillna(0)\n",
    "pbots_country = pbots_country.to_frame(name='pbots_country')"
   ]
  },
  {
   "cell_type": "code",
   "execution_count": 146,
   "metadata": {},
   "outputs": [
    {
     "data": {
      "text/html": [
       "<div>\n",
       "<style scoped>\n",
       "    .dataframe tbody tr th:only-of-type {\n",
       "        vertical-align: middle;\n",
       "    }\n",
       "\n",
       "    .dataframe tbody tr th {\n",
       "        vertical-align: top;\n",
       "    }\n",
       "\n",
       "    .dataframe thead th {\n",
       "        text-align: right;\n",
       "    }\n",
       "</style>\n",
       "<table border=\"1\" class=\"dataframe\">\n",
       "  <thead>\n",
       "    <tr style=\"text-align: right;\">\n",
       "      <th></th>\n",
       "      <th>pbots_country</th>\n",
       "    </tr>\n",
       "    <tr>\n",
       "      <th>country</th>\n",
       "      <th></th>\n",
       "    </tr>\n",
       "  </thead>\n",
       "  <tbody>\n",
       "    <tr>\n",
       "      <th>ad</th>\n",
       "      <td>0.285714</td>\n",
       "    </tr>\n",
       "    <tr>\n",
       "      <th>ae</th>\n",
       "      <td>0.085222</td>\n",
       "    </tr>\n",
       "    <tr>\n",
       "      <th>af</th>\n",
       "      <td>0.044769</td>\n",
       "    </tr>\n",
       "    <tr>\n",
       "      <th>ag</th>\n",
       "      <td>0.666667</td>\n",
       "    </tr>\n",
       "    <tr>\n",
       "      <th>al</th>\n",
       "      <td>0.022230</td>\n",
       "    </tr>\n",
       "    <tr>\n",
       "      <th>...</th>\n",
       "      <td>...</td>\n",
       "    </tr>\n",
       "    <tr>\n",
       "      <th>ye</th>\n",
       "      <td>0.109170</td>\n",
       "    </tr>\n",
       "    <tr>\n",
       "      <th>za</th>\n",
       "      <td>0.086032</td>\n",
       "    </tr>\n",
       "    <tr>\n",
       "      <th>zm</th>\n",
       "      <td>0.029700</td>\n",
       "    </tr>\n",
       "    <tr>\n",
       "      <th>zw</th>\n",
       "      <td>0.015813</td>\n",
       "    </tr>\n",
       "    <tr>\n",
       "      <th>zz</th>\n",
       "      <td>0.250000</td>\n",
       "    </tr>\n",
       "  </tbody>\n",
       "</table>\n",
       "<p>198 rows × 1 columns</p>\n",
       "</div>"
      ],
      "text/plain": [
       "         pbots_country\n",
       "country               \n",
       "ad            0.285714\n",
       "ae            0.085222\n",
       "af            0.044769\n",
       "ag            0.666667\n",
       "al            0.022230\n",
       "...                ...\n",
       "ye            0.109170\n",
       "za            0.086032\n",
       "zm            0.029700\n",
       "zw            0.015813\n",
       "zz            0.250000\n",
       "\n",
       "[198 rows x 1 columns]"
      ]
     },
     "execution_count": 146,
     "metadata": {},
     "output_type": "execute_result"
    }
   ],
   "source": [
    "pbots_country"
   ]
  },
  {
   "cell_type": "code",
   "execution_count": 147,
   "metadata": {},
   "outputs": [],
   "source": [
    "# proportion of bots per device\n",
    "pbots_device = bid[bid['outcome'] == 1].groupby('device').size() / bid.groupby('device').size()\n",
    "\n",
    "pbots_device = pbots_device.fillna(0)\n",
    "pbots_device = pbots_device.to_frame(name='pbots_device')"
   ]
  },
  {
   "cell_type": "code",
   "execution_count": 148,
   "metadata": {},
   "outputs": [
    {
     "data": {
      "text/html": [
       "<div>\n",
       "<style scoped>\n",
       "    .dataframe tbody tr th:only-of-type {\n",
       "        vertical-align: middle;\n",
       "    }\n",
       "\n",
       "    .dataframe tbody tr th {\n",
       "        vertical-align: top;\n",
       "    }\n",
       "\n",
       "    .dataframe thead th {\n",
       "        text-align: right;\n",
       "    }\n",
       "</style>\n",
       "<table border=\"1\" class=\"dataframe\">\n",
       "  <thead>\n",
       "    <tr style=\"text-align: right;\">\n",
       "      <th></th>\n",
       "      <th>pbots_device</th>\n",
       "    </tr>\n",
       "    <tr>\n",
       "      <th>device</th>\n",
       "      <th></th>\n",
       "    </tr>\n",
       "  </thead>\n",
       "  <tbody>\n",
       "    <tr>\n",
       "      <th>phone0</th>\n",
       "      <td>0.009222</td>\n",
       "    </tr>\n",
       "    <tr>\n",
       "      <th>phone1</th>\n",
       "      <td>0.056095</td>\n",
       "    </tr>\n",
       "    <tr>\n",
       "      <th>phone10</th>\n",
       "      <td>0.023729</td>\n",
       "    </tr>\n",
       "    <tr>\n",
       "      <th>phone100</th>\n",
       "      <td>0.011111</td>\n",
       "    </tr>\n",
       "    <tr>\n",
       "      <th>phone1000</th>\n",
       "      <td>0.000000</td>\n",
       "    </tr>\n",
       "    <tr>\n",
       "      <th>...</th>\n",
       "      <td>...</td>\n",
       "    </tr>\n",
       "    <tr>\n",
       "      <th>phone995</th>\n",
       "      <td>0.000000</td>\n",
       "    </tr>\n",
       "    <tr>\n",
       "      <th>phone996</th>\n",
       "      <td>0.458810</td>\n",
       "    </tr>\n",
       "    <tr>\n",
       "      <th>phone997</th>\n",
       "      <td>0.017442</td>\n",
       "    </tr>\n",
       "    <tr>\n",
       "      <th>phone998</th>\n",
       "      <td>0.000000</td>\n",
       "    </tr>\n",
       "    <tr>\n",
       "      <th>phone999</th>\n",
       "      <td>0.014205</td>\n",
       "    </tr>\n",
       "  </tbody>\n",
       "</table>\n",
       "<p>5726 rows × 1 columns</p>\n",
       "</div>"
      ],
      "text/plain": [
       "           pbots_device\n",
       "device                 \n",
       "phone0         0.009222\n",
       "phone1         0.056095\n",
       "phone10        0.023729\n",
       "phone100       0.011111\n",
       "phone1000      0.000000\n",
       "...                 ...\n",
       "phone995       0.000000\n",
       "phone996       0.458810\n",
       "phone997       0.017442\n",
       "phone998       0.000000\n",
       "phone999       0.014205\n",
       "\n",
       "[5726 rows x 1 columns]"
      ]
     },
     "execution_count": 148,
     "metadata": {},
     "output_type": "execute_result"
    }
   ],
   "source": [
    "pbots_device"
   ]
  },
  {
   "cell_type": "code",
   "execution_count": 149,
   "metadata": {},
   "outputs": [],
   "source": [
    "# number of unique ip to number of bids ratio\n",
    "ip_bids_ratio = bid.groupby('bidder_id')['ip'].nunique() / bid.groupby('bidder_id')['bid_id'].nunique()\n",
    "ip_bids_ratio = ip_bids_ratio.to_frame(name='ip_bids_ratio')"
   ]
  },
  {
   "cell_type": "code",
   "execution_count": 150,
   "metadata": {},
   "outputs": [
    {
     "data": {
      "text/html": [
       "<div>\n",
       "<style scoped>\n",
       "    .dataframe tbody tr th:only-of-type {\n",
       "        vertical-align: middle;\n",
       "    }\n",
       "\n",
       "    .dataframe tbody tr th {\n",
       "        vertical-align: top;\n",
       "    }\n",
       "\n",
       "    .dataframe thead th {\n",
       "        text-align: right;\n",
       "    }\n",
       "</style>\n",
       "<table border=\"1\" class=\"dataframe\">\n",
       "  <thead>\n",
       "    <tr style=\"text-align: right;\">\n",
       "      <th></th>\n",
       "      <th>ip_bids_ratio</th>\n",
       "    </tr>\n",
       "    <tr>\n",
       "      <th>bidder_id</th>\n",
       "      <th></th>\n",
       "    </tr>\n",
       "  </thead>\n",
       "  <tbody>\n",
       "    <tr>\n",
       "      <th>001068c415025a009fee375a12cff4fcnht8y</th>\n",
       "      <td>1.000000</td>\n",
       "    </tr>\n",
       "    <tr>\n",
       "      <th>0030a2dd87ad2733e0873062e4f83954mkj86</th>\n",
       "      <td>1.000000</td>\n",
       "    </tr>\n",
       "    <tr>\n",
       "      <th>00a0517965f18610417ee784a05f494d4dw6e</th>\n",
       "      <td>0.730496</td>\n",
       "    </tr>\n",
       "    <tr>\n",
       "      <th>00cc97158e6f4cb8eac3c0075918b7ffi5k8o</th>\n",
       "      <td>1.000000</td>\n",
       "    </tr>\n",
       "    <tr>\n",
       "      <th>01067975436d123f717ee5aba0dd4bbfa0937</th>\n",
       "      <td>0.728464</td>\n",
       "    </tr>\n",
       "    <tr>\n",
       "      <th>...</th>\n",
       "      <td>...</td>\n",
       "    </tr>\n",
       "    <tr>\n",
       "      <th>ff92ea4abd33ed38601287f0e1d6726dmgx1f</th>\n",
       "      <td>0.511392</td>\n",
       "    </tr>\n",
       "    <tr>\n",
       "      <th>ffacbed056cbfaa60c1fcf51f0d381bddr3ly</th>\n",
       "      <td>0.888889</td>\n",
       "    </tr>\n",
       "    <tr>\n",
       "      <th>ffaf0a972a6dcb3910fd6b16045781e2ava5y</th>\n",
       "      <td>1.000000</td>\n",
       "    </tr>\n",
       "    <tr>\n",
       "      <th>ffc4e2dd2cc08249f299cab46ecbfacfobmr3</th>\n",
       "      <td>0.818182</td>\n",
       "    </tr>\n",
       "    <tr>\n",
       "      <th>fff2c070d8200e0a09150bd81452ce29ngcnv</th>\n",
       "      <td>1.000000</td>\n",
       "    </tr>\n",
       "  </tbody>\n",
       "</table>\n",
       "<p>1983 rows × 1 columns</p>\n",
       "</div>"
      ],
      "text/plain": [
       "                                       ip_bids_ratio\n",
       "bidder_id                                           \n",
       "001068c415025a009fee375a12cff4fcnht8y       1.000000\n",
       "0030a2dd87ad2733e0873062e4f83954mkj86       1.000000\n",
       "00a0517965f18610417ee784a05f494d4dw6e       0.730496\n",
       "00cc97158e6f4cb8eac3c0075918b7ffi5k8o       1.000000\n",
       "01067975436d123f717ee5aba0dd4bbfa0937       0.728464\n",
       "...                                              ...\n",
       "ff92ea4abd33ed38601287f0e1d6726dmgx1f       0.511392\n",
       "ffacbed056cbfaa60c1fcf51f0d381bddr3ly       0.888889\n",
       "ffaf0a972a6dcb3910fd6b16045781e2ava5y       1.000000\n",
       "ffc4e2dd2cc08249f299cab46ecbfacfobmr3       0.818182\n",
       "fff2c070d8200e0a09150bd81452ce29ngcnv       1.000000\n",
       "\n",
       "[1983 rows x 1 columns]"
      ]
     },
     "execution_count": 150,
     "metadata": {},
     "output_type": "execute_result"
    }
   ],
   "source": [
    "ip_bids_ratio"
   ]
  },
  {
   "cell_type": "code",
   "execution_count": 151,
   "metadata": {},
   "outputs": [],
   "source": [
    "# mean per auction url entropy for each user\n",
    "auction_url_entropy = bid.groupby(['auction', 'bidder_id'])['url'].apply(calculate_dataframe_entropy)\n",
    "\n",
    "# Convert to DataFrame and add column name\n",
    "auction_url_entropy = auction_url_entropy.to_frame(name='auction_url_entropy')\n",
    "\n",
    "# Calculate mean entropy for each bidder_id\n",
    "auction_url_entropy = auction_url_entropy.groupby('bidder_id')['auction_url_entropy'].mean().reset_index()\n",
    "\n",
    "# Fill NA values with 0\n",
    "auction_url_entropy = auction_url_entropy.fillna(0)\n"
   ]
  },
  {
   "cell_type": "code",
   "execution_count": 152,
   "metadata": {},
   "outputs": [
    {
     "data": {
      "text/html": [
       "<div>\n",
       "<style scoped>\n",
       "    .dataframe tbody tr th:only-of-type {\n",
       "        vertical-align: middle;\n",
       "    }\n",
       "\n",
       "    .dataframe tbody tr th {\n",
       "        vertical-align: top;\n",
       "    }\n",
       "\n",
       "    .dataframe thead th {\n",
       "        text-align: right;\n",
       "    }\n",
       "</style>\n",
       "<table border=\"1\" class=\"dataframe\">\n",
       "  <thead>\n",
       "    <tr style=\"text-align: right;\">\n",
       "      <th></th>\n",
       "      <th>bidder_id</th>\n",
       "      <th>auction_url_entropy</th>\n",
       "    </tr>\n",
       "  </thead>\n",
       "  <tbody>\n",
       "    <tr>\n",
       "      <th>0</th>\n",
       "      <td>001068c415025a009fee375a12cff4fcnht8y</td>\n",
       "      <td>0.000000</td>\n",
       "    </tr>\n",
       "    <tr>\n",
       "      <th>1</th>\n",
       "      <td>0030a2dd87ad2733e0873062e4f83954mkj86</td>\n",
       "      <td>0.000000</td>\n",
       "    </tr>\n",
       "    <tr>\n",
       "      <th>2</th>\n",
       "      <td>00a0517965f18610417ee784a05f494d4dw6e</td>\n",
       "      <td>0.383859</td>\n",
       "    </tr>\n",
       "    <tr>\n",
       "      <th>3</th>\n",
       "      <td>00cc97158e6f4cb8eac3c0075918b7ffi5k8o</td>\n",
       "      <td>0.000000</td>\n",
       "    </tr>\n",
       "    <tr>\n",
       "      <th>4</th>\n",
       "      <td>01067975436d123f717ee5aba0dd4bbfa0937</td>\n",
       "      <td>0.005089</td>\n",
       "    </tr>\n",
       "    <tr>\n",
       "      <th>...</th>\n",
       "      <td>...</td>\n",
       "      <td>...</td>\n",
       "    </tr>\n",
       "    <tr>\n",
       "      <th>1978</th>\n",
       "      <td>ff92ea4abd33ed38601287f0e1d6726dmgx1f</td>\n",
       "      <td>1.225412</td>\n",
       "    </tr>\n",
       "    <tr>\n",
       "      <th>1979</th>\n",
       "      <td>ffacbed056cbfaa60c1fcf51f0d381bddr3ly</td>\n",
       "      <td>0.000000</td>\n",
       "    </tr>\n",
       "    <tr>\n",
       "      <th>1980</th>\n",
       "      <td>ffaf0a972a6dcb3910fd6b16045781e2ava5y</td>\n",
       "      <td>0.000000</td>\n",
       "    </tr>\n",
       "    <tr>\n",
       "      <th>1981</th>\n",
       "      <td>ffc4e2dd2cc08249f299cab46ecbfacfobmr3</td>\n",
       "      <td>0.207944</td>\n",
       "    </tr>\n",
       "    <tr>\n",
       "      <th>1982</th>\n",
       "      <td>fff2c070d8200e0a09150bd81452ce29ngcnv</td>\n",
       "      <td>0.000000</td>\n",
       "    </tr>\n",
       "  </tbody>\n",
       "</table>\n",
       "<p>1983 rows × 2 columns</p>\n",
       "</div>"
      ],
      "text/plain": [
       "                                  bidder_id  auction_url_entropy\n",
       "0     001068c415025a009fee375a12cff4fcnht8y             0.000000\n",
       "1     0030a2dd87ad2733e0873062e4f83954mkj86             0.000000\n",
       "2     00a0517965f18610417ee784a05f494d4dw6e             0.383859\n",
       "3     00cc97158e6f4cb8eac3c0075918b7ffi5k8o             0.000000\n",
       "4     01067975436d123f717ee5aba0dd4bbfa0937             0.005089\n",
       "...                                     ...                  ...\n",
       "1978  ff92ea4abd33ed38601287f0e1d6726dmgx1f             1.225412\n",
       "1979  ffacbed056cbfaa60c1fcf51f0d381bddr3ly             0.000000\n",
       "1980  ffaf0a972a6dcb3910fd6b16045781e2ava5y             0.000000\n",
       "1981  ffc4e2dd2cc08249f299cab46ecbfacfobmr3             0.207944\n",
       "1982  fff2c070d8200e0a09150bd81452ce29ngcnv             0.000000\n",
       "\n",
       "[1983 rows x 2 columns]"
      ]
     },
     "execution_count": 152,
     "metadata": {},
     "output_type": "execute_result"
    }
   ],
   "source": [
    "auction_url_entropy"
   ]
  },
  {
   "cell_type": "code",
   "execution_count": 153,
   "metadata": {},
   "outputs": [],
   "source": [
    "# merge the features back\n",
    "bid = pd.merge(bid, bids_per_auction, on=['auction', 'bidder_id'], how='left')\n",
    "bid = pd.merge(bid, pbots_country, on='country', how='left')\n",
    "bid = pd.merge(bid, pbots_device, on='device', how='left')\n",
    "bid = pd.merge(bid, ip_bids_ratio, on='bidder_id', how='left')\n",
    "bid = pd.merge(bid, auction_url_entropy, on='bidder_id', how='left')"
   ]
  },
  {
   "cell_type": "code",
   "execution_count": 154,
   "metadata": {},
   "outputs": [
    {
     "data": {
      "text/plain": [
       "(3068523, 17)"
      ]
     },
     "execution_count": 154,
     "metadata": {},
     "output_type": "execute_result"
    }
   ],
   "source": [
    "bid.shape"
   ]
  },
  {
   "cell_type": "code",
   "execution_count": 155,
   "metadata": {},
   "outputs": [
    {
     "data": {
      "text/plain": [
       "Index(['bidder_id', 'payment_account', 'address', 'outcome', 'bid_id',\n",
       "       'auction', 'merchandise', 'device', 'time', 'country', 'ip', 'url',\n",
       "       'bids_per_auction', 'pbots_country', 'pbots_device', 'ip_bids_ratio',\n",
       "       'auction_url_entropy'],\n",
       "      dtype='object')"
      ]
     },
     "execution_count": 155,
     "metadata": {},
     "output_type": "execute_result"
    }
   ],
   "source": [
    "bid.columns"
   ]
  },
  {
   "cell_type": "code",
   "execution_count": 156,
   "metadata": {},
   "outputs": [
    {
     "data": {
      "text/html": [
       "<div>\n",
       "<style scoped>\n",
       "    .dataframe tbody tr th:only-of-type {\n",
       "        vertical-align: middle;\n",
       "    }\n",
       "\n",
       "    .dataframe tbody tr th {\n",
       "        vertical-align: top;\n",
       "    }\n",
       "\n",
       "    .dataframe thead th {\n",
       "        text-align: right;\n",
       "    }\n",
       "</style>\n",
       "<table border=\"1\" class=\"dataframe\">\n",
       "  <thead>\n",
       "    <tr style=\"text-align: right;\">\n",
       "      <th></th>\n",
       "      <th>bidder_id</th>\n",
       "      <th>payment_account</th>\n",
       "      <th>address</th>\n",
       "      <th>outcome</th>\n",
       "      <th>bid_id</th>\n",
       "      <th>auction</th>\n",
       "      <th>merchandise</th>\n",
       "      <th>device</th>\n",
       "      <th>time</th>\n",
       "      <th>country</th>\n",
       "      <th>ip</th>\n",
       "      <th>url</th>\n",
       "      <th>bids_per_auction</th>\n",
       "      <th>pbots_country</th>\n",
       "      <th>pbots_device</th>\n",
       "      <th>ip_bids_ratio</th>\n",
       "      <th>auction_url_entropy</th>\n",
       "    </tr>\n",
       "  </thead>\n",
       "  <tbody>\n",
       "    <tr>\n",
       "      <th>0</th>\n",
       "      <td>76218e14c379c12d599dae9e1c00b61a3i5b2</td>\n",
       "      <td>a3d2de7675556553a5f08e4c88d2c228sjo4q</td>\n",
       "      <td>ca8d4b018cb62966eebb2974f5a83b4fstk6z</td>\n",
       "      <td>0.0</td>\n",
       "      <td>2351187.0</td>\n",
       "      <td>6hpvy</td>\n",
       "      <td>sporting goods</td>\n",
       "      <td>phone1161</td>\n",
       "      <td>9.631917e+15</td>\n",
       "      <td>cz</td>\n",
       "      <td>121.169.96.51</td>\n",
       "      <td>f33fl83l4vrg6is</td>\n",
       "      <td>368</td>\n",
       "      <td>0.089199</td>\n",
       "      <td>0.020161</td>\n",
       "      <td>0.178624</td>\n",
       "      <td>1.463760</td>\n",
       "    </tr>\n",
       "    <tr>\n",
       "      <th>1</th>\n",
       "      <td>6e178db6d17d21aa88aaca5bf15c2761lc500</td>\n",
       "      <td>a3d2de7675556553a5f08e4c88d2c228mqaf6</td>\n",
       "      <td>0d11440b07e5e2c8550af74b728ab4edk47gk</td>\n",
       "      <td>0.0</td>\n",
       "      <td>2351200.0</td>\n",
       "      <td>jqx39</td>\n",
       "      <td>jewelry</td>\n",
       "      <td>phone99</td>\n",
       "      <td>9.631917e+15</td>\n",
       "      <td>sa</td>\n",
       "      <td>174.12.78.255</td>\n",
       "      <td>omwhmwzvrn6ycq6</td>\n",
       "      <td>15452</td>\n",
       "      <td>0.177281</td>\n",
       "      <td>0.055360</td>\n",
       "      <td>0.583490</td>\n",
       "      <td>0.885604</td>\n",
       "    </tr>\n",
       "    <tr>\n",
       "      <th>2</th>\n",
       "      <td>197e90906939267ace2422e78e8e83889znqp</td>\n",
       "      <td>faef6512727719c3dd147a06ba951c947c4fn</td>\n",
       "      <td>dd7151709002fc3dce968916d8ec00ede03vc</td>\n",
       "      <td>0.0</td>\n",
       "      <td>2351192.0</td>\n",
       "      <td>gst86</td>\n",
       "      <td>home goods</td>\n",
       "      <td>phone348</td>\n",
       "      <td>9.631917e+15</td>\n",
       "      <td>ma</td>\n",
       "      <td>154.151.182.60</td>\n",
       "      <td>vasstdc27m7nks3</td>\n",
       "      <td>2386</td>\n",
       "      <td>0.095494</td>\n",
       "      <td>0.065255</td>\n",
       "      <td>0.461730</td>\n",
       "      <td>0.809338</td>\n",
       "    </tr>\n",
       "    <tr>\n",
       "      <th>3</th>\n",
       "      <td>f5b2bbad20d1d7ded3ed960393bec0f40u6hn</td>\n",
       "      <td>a3d2de7675556553a5f08e4c88d2c228sezhf</td>\n",
       "      <td>a3d2de7675556553a5f08e4c88d2c228nfhse</td>\n",
       "      <td>0.0</td>\n",
       "      <td>2351190.0</td>\n",
       "      <td>fagyq</td>\n",
       "      <td>sporting goods</td>\n",
       "      <td>phone1</td>\n",
       "      <td>9.631917e+15</td>\n",
       "      <td>in</td>\n",
       "      <td>161.192.187.34</td>\n",
       "      <td>3skc4v2r07bneta</td>\n",
       "      <td>851</td>\n",
       "      <td>0.133801</td>\n",
       "      <td>0.056095</td>\n",
       "      <td>0.196636</td>\n",
       "      <td>1.747853</td>\n",
       "    </tr>\n",
       "    <tr>\n",
       "      <th>4</th>\n",
       "      <td>f5b2bbad20d1d7ded3ed960393bec0f40u6hn</td>\n",
       "      <td>a3d2de7675556553a5f08e4c88d2c228sezhf</td>\n",
       "      <td>a3d2de7675556553a5f08e4c88d2c228nfhse</td>\n",
       "      <td>0.0</td>\n",
       "      <td>2351188.0</td>\n",
       "      <td>64uay</td>\n",
       "      <td>sporting goods</td>\n",
       "      <td>phone0</td>\n",
       "      <td>9.631917e+15</td>\n",
       "      <td>ke</td>\n",
       "      <td>17.120.130.121</td>\n",
       "      <td>vasstdc27m7nks3</td>\n",
       "      <td>12</td>\n",
       "      <td>0.035496</td>\n",
       "      <td>0.009222</td>\n",
       "      <td>0.196636</td>\n",
       "      <td>1.747853</td>\n",
       "    </tr>\n",
       "  </tbody>\n",
       "</table>\n",
       "</div>"
      ],
      "text/plain": [
       "                               bidder_id  \\\n",
       "0  76218e14c379c12d599dae9e1c00b61a3i5b2   \n",
       "1  6e178db6d17d21aa88aaca5bf15c2761lc500   \n",
       "2  197e90906939267ace2422e78e8e83889znqp   \n",
       "3  f5b2bbad20d1d7ded3ed960393bec0f40u6hn   \n",
       "4  f5b2bbad20d1d7ded3ed960393bec0f40u6hn   \n",
       "\n",
       "                         payment_account  \\\n",
       "0  a3d2de7675556553a5f08e4c88d2c228sjo4q   \n",
       "1  a3d2de7675556553a5f08e4c88d2c228mqaf6   \n",
       "2  faef6512727719c3dd147a06ba951c947c4fn   \n",
       "3  a3d2de7675556553a5f08e4c88d2c228sezhf   \n",
       "4  a3d2de7675556553a5f08e4c88d2c228sezhf   \n",
       "\n",
       "                                 address  outcome     bid_id auction  \\\n",
       "0  ca8d4b018cb62966eebb2974f5a83b4fstk6z      0.0  2351187.0   6hpvy   \n",
       "1  0d11440b07e5e2c8550af74b728ab4edk47gk      0.0  2351200.0   jqx39   \n",
       "2  dd7151709002fc3dce968916d8ec00ede03vc      0.0  2351192.0   gst86   \n",
       "3  a3d2de7675556553a5f08e4c88d2c228nfhse      0.0  2351190.0   fagyq   \n",
       "4  a3d2de7675556553a5f08e4c88d2c228nfhse      0.0  2351188.0   64uay   \n",
       "\n",
       "      merchandise     device          time country              ip  \\\n",
       "0  sporting goods  phone1161  9.631917e+15      cz   121.169.96.51   \n",
       "1         jewelry    phone99  9.631917e+15      sa   174.12.78.255   \n",
       "2      home goods   phone348  9.631917e+15      ma  154.151.182.60   \n",
       "3  sporting goods     phone1  9.631917e+15      in  161.192.187.34   \n",
       "4  sporting goods     phone0  9.631917e+15      ke  17.120.130.121   \n",
       "\n",
       "               url  bids_per_auction  pbots_country  pbots_device  \\\n",
       "0  f33fl83l4vrg6is               368       0.089199      0.020161   \n",
       "1  omwhmwzvrn6ycq6             15452       0.177281      0.055360   \n",
       "2  vasstdc27m7nks3              2386       0.095494      0.065255   \n",
       "3  3skc4v2r07bneta               851       0.133801      0.056095   \n",
       "4  vasstdc27m7nks3                12       0.035496      0.009222   \n",
       "\n",
       "   ip_bids_ratio  auction_url_entropy  \n",
       "0       0.178624             1.463760  \n",
       "1       0.583490             0.885604  \n",
       "2       0.461730             0.809338  \n",
       "3       0.196636             1.747853  \n",
       "4       0.196636             1.747853  "
      ]
     },
     "execution_count": 156,
     "metadata": {},
     "output_type": "execute_result"
    }
   ],
   "source": [
    "bid.head()"
   ]
  },
  {
   "cell_type": "code",
   "execution_count": 157,
   "metadata": {},
   "outputs": [],
   "source": [
    "bid = pd.concat([bid.iloc[:, 3], bid.iloc[:, -6:]], axis=1)"
   ]
  },
  {
   "cell_type": "code",
   "execution_count": 158,
   "metadata": {},
   "outputs": [],
   "source": [
    "bid.to_csv(\"./Data/Dataset/FeaturedBids.csv\")"
   ]
  },
  {
   "cell_type": "markdown",
   "metadata": {},
   "source": [
    "### Data Visualization"
   ]
  },
  {
   "cell_type": "code",
   "execution_count": 159,
   "metadata": {},
   "outputs": [],
   "source": [
    "bidDF = pd.read_csv(\"./Data/Dataset/FeaturedBids.csv\")"
   ]
  },
  {
   "cell_type": "code",
   "execution_count": 160,
   "metadata": {},
   "outputs": [
    {
     "data": {
      "text/plain": [
       "(3068523, 8)"
      ]
     },
     "execution_count": 160,
     "metadata": {},
     "output_type": "execute_result"
    }
   ],
   "source": [
    "bidDF.shape"
   ]
  },
  {
   "cell_type": "code",
   "execution_count": 161,
   "metadata": {},
   "outputs": [
    {
     "data": {
      "text/html": [
       "<div>\n",
       "<style scoped>\n",
       "    .dataframe tbody tr th:only-of-type {\n",
       "        vertical-align: middle;\n",
       "    }\n",
       "\n",
       "    .dataframe tbody tr th {\n",
       "        vertical-align: top;\n",
       "    }\n",
       "\n",
       "    .dataframe thead th {\n",
       "        text-align: right;\n",
       "    }\n",
       "</style>\n",
       "<table border=\"1\" class=\"dataframe\">\n",
       "  <thead>\n",
       "    <tr style=\"text-align: right;\">\n",
       "      <th></th>\n",
       "      <th>Unnamed: 0</th>\n",
       "      <th>outcome</th>\n",
       "      <th>url</th>\n",
       "      <th>bids_per_auction</th>\n",
       "      <th>pbots_country</th>\n",
       "      <th>pbots_device</th>\n",
       "      <th>ip_bids_ratio</th>\n",
       "      <th>auction_url_entropy</th>\n",
       "    </tr>\n",
       "  </thead>\n",
       "  <tbody>\n",
       "    <tr>\n",
       "      <th>0</th>\n",
       "      <td>0</td>\n",
       "      <td>0.0</td>\n",
       "      <td>f33fl83l4vrg6is</td>\n",
       "      <td>368</td>\n",
       "      <td>0.089199</td>\n",
       "      <td>0.020161</td>\n",
       "      <td>0.178624</td>\n",
       "      <td>1.463760</td>\n",
       "    </tr>\n",
       "    <tr>\n",
       "      <th>1</th>\n",
       "      <td>1</td>\n",
       "      <td>0.0</td>\n",
       "      <td>omwhmwzvrn6ycq6</td>\n",
       "      <td>15452</td>\n",
       "      <td>0.177281</td>\n",
       "      <td>0.055360</td>\n",
       "      <td>0.583490</td>\n",
       "      <td>0.885604</td>\n",
       "    </tr>\n",
       "    <tr>\n",
       "      <th>2</th>\n",
       "      <td>2</td>\n",
       "      <td>0.0</td>\n",
       "      <td>vasstdc27m7nks3</td>\n",
       "      <td>2386</td>\n",
       "      <td>0.095494</td>\n",
       "      <td>0.065255</td>\n",
       "      <td>0.461730</td>\n",
       "      <td>0.809338</td>\n",
       "    </tr>\n",
       "    <tr>\n",
       "      <th>3</th>\n",
       "      <td>3</td>\n",
       "      <td>0.0</td>\n",
       "      <td>3skc4v2r07bneta</td>\n",
       "      <td>851</td>\n",
       "      <td>0.133801</td>\n",
       "      <td>0.056095</td>\n",
       "      <td>0.196636</td>\n",
       "      <td>1.747853</td>\n",
       "    </tr>\n",
       "    <tr>\n",
       "      <th>4</th>\n",
       "      <td>4</td>\n",
       "      <td>0.0</td>\n",
       "      <td>vasstdc27m7nks3</td>\n",
       "      <td>12</td>\n",
       "      <td>0.035496</td>\n",
       "      <td>0.009222</td>\n",
       "      <td>0.196636</td>\n",
       "      <td>1.747853</td>\n",
       "    </tr>\n",
       "  </tbody>\n",
       "</table>\n",
       "</div>"
      ],
      "text/plain": [
       "   Unnamed: 0  outcome              url  bids_per_auction  pbots_country  \\\n",
       "0           0      0.0  f33fl83l4vrg6is               368       0.089199   \n",
       "1           1      0.0  omwhmwzvrn6ycq6             15452       0.177281   \n",
       "2           2      0.0  vasstdc27m7nks3              2386       0.095494   \n",
       "3           3      0.0  3skc4v2r07bneta               851       0.133801   \n",
       "4           4      0.0  vasstdc27m7nks3                12       0.035496   \n",
       "\n",
       "   pbots_device  ip_bids_ratio  auction_url_entropy  \n",
       "0      0.020161       0.178624             1.463760  \n",
       "1      0.055360       0.583490             0.885604  \n",
       "2      0.065255       0.461730             0.809338  \n",
       "3      0.056095       0.196636             1.747853  \n",
       "4      0.009222       0.196636             1.747853  "
      ]
     },
     "execution_count": 161,
     "metadata": {},
     "output_type": "execute_result"
    }
   ],
   "source": [
    "bidDF.head()"
   ]
  },
  {
   "cell_type": "code",
   "execution_count": 162,
   "metadata": {},
   "outputs": [],
   "source": [
    "bidDF.drop(['Unnamed: 0', 'url'], axis=1, inplace=True)"
   ]
  },
  {
   "cell_type": "code",
   "execution_count": 163,
   "metadata": {},
   "outputs": [
    {
     "data": {
      "text/html": [
       "<div>\n",
       "<style scoped>\n",
       "    .dataframe tbody tr th:only-of-type {\n",
       "        vertical-align: middle;\n",
       "    }\n",
       "\n",
       "    .dataframe tbody tr th {\n",
       "        vertical-align: top;\n",
       "    }\n",
       "\n",
       "    .dataframe thead th {\n",
       "        text-align: right;\n",
       "    }\n",
       "</style>\n",
       "<table border=\"1\" class=\"dataframe\">\n",
       "  <thead>\n",
       "    <tr style=\"text-align: right;\">\n",
       "      <th></th>\n",
       "      <th>outcome</th>\n",
       "      <th>bids_per_auction</th>\n",
       "      <th>pbots_country</th>\n",
       "      <th>pbots_device</th>\n",
       "      <th>ip_bids_ratio</th>\n",
       "      <th>auction_url_entropy</th>\n",
       "    </tr>\n",
       "  </thead>\n",
       "  <tbody>\n",
       "    <tr>\n",
       "      <th>0</th>\n",
       "      <td>0.0</td>\n",
       "      <td>368</td>\n",
       "      <td>0.089199</td>\n",
       "      <td>0.020161</td>\n",
       "      <td>0.178624</td>\n",
       "      <td>1.463760</td>\n",
       "    </tr>\n",
       "    <tr>\n",
       "      <th>1</th>\n",
       "      <td>0.0</td>\n",
       "      <td>15452</td>\n",
       "      <td>0.177281</td>\n",
       "      <td>0.055360</td>\n",
       "      <td>0.583490</td>\n",
       "      <td>0.885604</td>\n",
       "    </tr>\n",
       "    <tr>\n",
       "      <th>2</th>\n",
       "      <td>0.0</td>\n",
       "      <td>2386</td>\n",
       "      <td>0.095494</td>\n",
       "      <td>0.065255</td>\n",
       "      <td>0.461730</td>\n",
       "      <td>0.809338</td>\n",
       "    </tr>\n",
       "    <tr>\n",
       "      <th>3</th>\n",
       "      <td>0.0</td>\n",
       "      <td>851</td>\n",
       "      <td>0.133801</td>\n",
       "      <td>0.056095</td>\n",
       "      <td>0.196636</td>\n",
       "      <td>1.747853</td>\n",
       "    </tr>\n",
       "    <tr>\n",
       "      <th>4</th>\n",
       "      <td>0.0</td>\n",
       "      <td>12</td>\n",
       "      <td>0.035496</td>\n",
       "      <td>0.009222</td>\n",
       "      <td>0.196636</td>\n",
       "      <td>1.747853</td>\n",
       "    </tr>\n",
       "  </tbody>\n",
       "</table>\n",
       "</div>"
      ],
      "text/plain": [
       "   outcome  bids_per_auction  pbots_country  pbots_device  ip_bids_ratio  \\\n",
       "0      0.0               368       0.089199      0.020161       0.178624   \n",
       "1      0.0             15452       0.177281      0.055360       0.583490   \n",
       "2      0.0              2386       0.095494      0.065255       0.461730   \n",
       "3      0.0               851       0.133801      0.056095       0.196636   \n",
       "4      0.0                12       0.035496      0.009222       0.196636   \n",
       "\n",
       "   auction_url_entropy  \n",
       "0             1.463760  \n",
       "1             0.885604  \n",
       "2             0.809338  \n",
       "3             1.747853  \n",
       "4             1.747853  "
      ]
     },
     "execution_count": 163,
     "metadata": {},
     "output_type": "execute_result"
    }
   ],
   "source": [
    "bidDF.head()"
   ]
  },
  {
   "cell_type": "code",
   "execution_count": 164,
   "metadata": {},
   "outputs": [],
   "source": [
    "bots = bidDF.loc[bidDF.outcome == 1]\n",
    "humans = bidDF.loc[bidDF.outcome == 0]\n"
   ]
  },
  {
   "cell_type": "code",
   "execution_count": 165,
   "metadata": {},
   "outputs": [
    {
     "data": {
      "text/plain": [
       "<Axes: >"
      ]
     },
     "execution_count": 165,
     "metadata": {},
     "output_type": "execute_result"
    },
    {
     "data": {
      "image/png": "[encoded data removed]",
      "text/plain": [
       "<Figure size 640x480 with 2 Axes>"
      ]
     },
     "metadata": {},
     "output_type": "display_data"
    }
   ],
   "source": [
    "corr_mat = bidDF.corr()\n",
    "\n",
    "sns.heatmap(corr_mat, annot=True, cmap='coolwarm')"
   ]
  },
  {
   "cell_type": "code",
   "execution_count": 166,
   "metadata": {},
   "outputs": [
    {
     "data": {
      "text/plain": [
       "<Axes: xlabel='bids_per_auction', ylabel='Count'>"
      ]
     },
     "execution_count": 166,
     "metadata": {},
     "output_type": "execute_result"
    },
    {
     "data": {
      "text/plain": [
       "<Axes: xlabel='bids_per_auction', ylabel='Count'>"
      ]
     },
     "execution_count": 166,
     "metadata": {},
     "output_type": "execute_result"
    },
    {
     "data": {
      "text/plain": [
       "<Axes: xlabel='pbots_country', ylabel='Count'>"
      ]
     },
     "execution_count": 166,
     "metadata": {},
     "output_type": "execute_result"
    },
    {
     "data": {
      "text/plain": [
       "<Axes: xlabel='pbots_country', ylabel='Count'>"
      ]
     },
     "execution_count": 166,
     "metadata": {},
     "output_type": "execute_result"
    },
    {
     "data": {
      "text/plain": [
       "<Axes: xlabel='pbots_device', ylabel='Count'>"
      ]
     },
     "execution_count": 166,
     "metadata": {},
     "output_type": "execute_result"
    },
    {
     "data": {
      "text/plain": [
       "<Axes: xlabel='pbots_device', ylabel='Count'>"
      ]
     },
     "execution_count": 166,
     "metadata": {},
     "output_type": "execute_result"
    },
    {
     "data": {
      "text/plain": [
       "<Axes: xlabel='ip_bids_ratio', ylabel='Count'>"
      ]
     },
     "execution_count": 166,
     "metadata": {},
     "output_type": "execute_result"
    },
    {
     "data": {
      "text/plain": [
       "<Axes: xlabel='ip_bids_ratio', ylabel='Count'>"
      ]
     },
     "execution_count": 166,
     "metadata": {},
     "output_type": "execute_result"
    },
    {
     "data": {
      "text/plain": [
       "<Axes: xlabel='auction_url_entropy', ylabel='Count'>"
      ]
     },
     "execution_count": 166,
     "metadata": {},
     "output_type": "execute_result"
    },
    {
     "data": {
      "text/plain": [
       "<Axes: xlabel='auction_url_entropy', ylabel='Count'>"
      ]
     },
     "execution_count": 166,
     "metadata": {},
     "output_type": "execute_result"
    },
    {
     "data": {
      "text/plain": [
       "<matplotlib.legend.Legend at 0x29a26fc7d10>"
      ]
     },
     "execution_count": 166,
     "metadata": {},
     "output_type": "execute_result"
    },
    {
     "data": {
      "image/png": "[encoded data removed]",
      "text/plain": [
       "<Figure size 1400x1200 with 6 Axes>"
      ]
     },
     "metadata": {},
     "output_type": "display_data"
    }
   ],
   "source": [
    "fig, ax = plt.subplots(3, 2, figsize=(14, 12), sharex=False)\n",
    "\n",
    "# Use sns.histplot for histogram and sns.kdeplot for KDE plot\n",
    "sns.histplot(\n",
    "    bots['bids_per_auction'], bins=int(180/5), color='darkblue',\n",
    "    kde=True, line_kws={'linewidth': 1.5}, ax=ax[0, 0]\n",
    ")\n",
    "sns.histplot(\n",
    "    humans['bids_per_auction'], bins=int(180/5), color='darkblue',\n",
    "    kde=True, line_kws={'linewidth': 1.5}, ax=ax[0, 0]\n",
    ")\n",
    "\n",
    "sns.histplot(\n",
    "    bots['pbots_country'], bins=int(180/5), color='darkblue',\n",
    "    kde=True, line_kws={'linewidth': 1.5}, ax=ax[0, 1]\n",
    ")\n",
    "sns.histplot(\n",
    "    humans['pbots_country'], bins=int(180/5), color='darkblue',\n",
    "    kde=True, line_kws={'linewidth': 1.5}, ax=ax[0, 1]\n",
    ")\n",
    "\n",
    "sns.histplot(\n",
    "    bots['pbots_device'], bins=int(180/5), color='darkblue',\n",
    "    kde=True, line_kws={'linewidth': 1.5}, ax=ax[1, 0]\n",
    ")\n",
    "sns.histplot(\n",
    "    humans['pbots_device'], bins=int(180/5), color='darkblue',\n",
    "    kde=True, line_kws={'linewidth': 1.5}, ax=ax[1, 0]\n",
    ")\n",
    "\n",
    "sns.histplot(\n",
    "    bots['ip_bids_ratio'], bins=int(180/5), color='darkblue',\n",
    "    kde=True, line_kws={'linewidth': 1.5}, ax=ax[1, 1]\n",
    ")\n",
    "sns.histplot(\n",
    "    humans['ip_bids_ratio'], bins=int(180/5), color='darkblue',\n",
    "    kde=True, line_kws={'linewidth': 1.5}, ax=ax[1, 1]\n",
    ")\n",
    "\n",
    "\n",
    "sns.histplot(\n",
    "    bots['auction_url_entropy'], bins=int(180/5), color='darkblue',\n",
    "    kde=True, line_kws={'linewidth': 1.5}, ax=ax[2, 0]\n",
    ")\n",
    "sns.histplot(\n",
    "    humans['auction_url_entropy'], bins=int(180/5), color='darkblue',\n",
    "    kde=True, line_kws={'linewidth': 1.5}, ax=ax[2, 0]\n",
    ")\n",
    "\n",
    "plt.legend(['bots', 'humans'])\n",
    "plt.show()"
   ]
  },
  {
   "cell_type": "markdown",
   "metadata": {},
   "source": [
    "### Data Splitting , Model Building and Model Evaluation"
   ]
  },
  {
   "cell_type": "code",
   "execution_count": 167,
   "metadata": {},
   "outputs": [],
   "source": [
    "df = pd.read_csv(\"./Data/Dataset/FeaturedBids.csv\")"
   ]
  },
  {
   "cell_type": "code",
   "execution_count": 168,
   "metadata": {},
   "outputs": [
    {
     "data": {
      "text/plain": [
       "(3068523, 8)"
      ]
     },
     "execution_count": 168,
     "metadata": {},
     "output_type": "execute_result"
    }
   ],
   "source": [
    "df.shape"
   ]
  },
  {
   "cell_type": "code",
   "execution_count": 169,
   "metadata": {},
   "outputs": [
    {
     "data": {
      "text/html": [
       "<div>\n",
       "<style scoped>\n",
       "    .dataframe tbody tr th:only-of-type {\n",
       "        vertical-align: middle;\n",
       "    }\n",
       "\n",
       "    .dataframe tbody tr th {\n",
       "        vertical-align: top;\n",
       "    }\n",
       "\n",
       "    .dataframe thead th {\n",
       "        text-align: right;\n",
       "    }\n",
       "</style>\n",
       "<table border=\"1\" class=\"dataframe\">\n",
       "  <thead>\n",
       "    <tr style=\"text-align: right;\">\n",
       "      <th></th>\n",
       "      <th>Unnamed: 0</th>\n",
       "      <th>outcome</th>\n",
       "      <th>url</th>\n",
       "      <th>bids_per_auction</th>\n",
       "      <th>pbots_country</th>\n",
       "      <th>pbots_device</th>\n",
       "      <th>ip_bids_ratio</th>\n",
       "      <th>auction_url_entropy</th>\n",
       "    </tr>\n",
       "  </thead>\n",
       "  <tbody>\n",
       "    <tr>\n",
       "      <th>0</th>\n",
       "      <td>0</td>\n",
       "      <td>0.0</td>\n",
       "      <td>f33fl83l4vrg6is</td>\n",
       "      <td>368</td>\n",
       "      <td>0.089199</td>\n",
       "      <td>0.020161</td>\n",
       "      <td>0.178624</td>\n",
       "      <td>1.463760</td>\n",
       "    </tr>\n",
       "    <tr>\n",
       "      <th>1</th>\n",
       "      <td>1</td>\n",
       "      <td>0.0</td>\n",
       "      <td>omwhmwzvrn6ycq6</td>\n",
       "      <td>15452</td>\n",
       "      <td>0.177281</td>\n",
       "      <td>0.055360</td>\n",
       "      <td>0.583490</td>\n",
       "      <td>0.885604</td>\n",
       "    </tr>\n",
       "    <tr>\n",
       "      <th>2</th>\n",
       "      <td>2</td>\n",
       "      <td>0.0</td>\n",
       "      <td>vasstdc27m7nks3</td>\n",
       "      <td>2386</td>\n",
       "      <td>0.095494</td>\n",
       "      <td>0.065255</td>\n",
       "      <td>0.461730</td>\n",
       "      <td>0.809338</td>\n",
       "    </tr>\n",
       "    <tr>\n",
       "      <th>3</th>\n",
       "      <td>3</td>\n",
       "      <td>0.0</td>\n",
       "      <td>3skc4v2r07bneta</td>\n",
       "      <td>851</td>\n",
       "      <td>0.133801</td>\n",
       "      <td>0.056095</td>\n",
       "      <td>0.196636</td>\n",
       "      <td>1.747853</td>\n",
       "    </tr>\n",
       "    <tr>\n",
       "      <th>4</th>\n",
       "      <td>4</td>\n",
       "      <td>0.0</td>\n",
       "      <td>vasstdc27m7nks3</td>\n",
       "      <td>12</td>\n",
       "      <td>0.035496</td>\n",
       "      <td>0.009222</td>\n",
       "      <td>0.196636</td>\n",
       "      <td>1.747853</td>\n",
       "    </tr>\n",
       "  </tbody>\n",
       "</table>\n",
       "</div>"
      ],
      "text/plain": [
       "   Unnamed: 0  outcome              url  bids_per_auction  pbots_country  \\\n",
       "0           0      0.0  f33fl83l4vrg6is               368       0.089199   \n",
       "1           1      0.0  omwhmwzvrn6ycq6             15452       0.177281   \n",
       "2           2      0.0  vasstdc27m7nks3              2386       0.095494   \n",
       "3           3      0.0  3skc4v2r07bneta               851       0.133801   \n",
       "4           4      0.0  vasstdc27m7nks3                12       0.035496   \n",
       "\n",
       "   pbots_device  ip_bids_ratio  auction_url_entropy  \n",
       "0      0.020161       0.178624             1.463760  \n",
       "1      0.055360       0.583490             0.885604  \n",
       "2      0.065255       0.461730             0.809338  \n",
       "3      0.056095       0.196636             1.747853  \n",
       "4      0.009222       0.196636             1.747853  "
      ]
     },
     "execution_count": 169,
     "metadata": {},
     "output_type": "execute_result"
    }
   ],
   "source": [
    "df.head()"
   ]
  },
  {
   "cell_type": "code",
   "execution_count": 170,
   "metadata": {},
   "outputs": [],
   "source": [
    "df.drop(['Unnamed: 0', 'url'], axis=1, inplace=True)"
   ]
  },
  {
   "cell_type": "code",
   "execution_count": 171,
   "metadata": {},
   "outputs": [
    {
     "data": {
      "text/plain": [
       "(3068523, 6)"
      ]
     },
     "execution_count": 171,
     "metadata": {},
     "output_type": "execute_result"
    }
   ],
   "source": [
    "df.shape"
   ]
  },
  {
   "cell_type": "code",
   "execution_count": 172,
   "metadata": {},
   "outputs": [
    {
     "data": {
      "text/html": [
       "<div>\n",
       "<style scoped>\n",
       "    .dataframe tbody tr th:only-of-type {\n",
       "        vertical-align: middle;\n",
       "    }\n",
       "\n",
       "    .dataframe tbody tr th {\n",
       "        vertical-align: top;\n",
       "    }\n",
       "\n",
       "    .dataframe thead th {\n",
       "        text-align: right;\n",
       "    }\n",
       "</style>\n",
       "<table border=\"1\" class=\"dataframe\">\n",
       "  <thead>\n",
       "    <tr style=\"text-align: right;\">\n",
       "      <th></th>\n",
       "      <th>outcome</th>\n",
       "      <th>bids_per_auction</th>\n",
       "      <th>pbots_country</th>\n",
       "      <th>pbots_device</th>\n",
       "      <th>ip_bids_ratio</th>\n",
       "      <th>auction_url_entropy</th>\n",
       "    </tr>\n",
       "  </thead>\n",
       "  <tbody>\n",
       "    <tr>\n",
       "      <th>0</th>\n",
       "      <td>0.0</td>\n",
       "      <td>368</td>\n",
       "      <td>0.089199</td>\n",
       "      <td>0.020161</td>\n",
       "      <td>0.178624</td>\n",
       "      <td>1.463760</td>\n",
       "    </tr>\n",
       "    <tr>\n",
       "      <th>1</th>\n",
       "      <td>0.0</td>\n",
       "      <td>15452</td>\n",
       "      <td>0.177281</td>\n",
       "      <td>0.055360</td>\n",
       "      <td>0.583490</td>\n",
       "      <td>0.885604</td>\n",
       "    </tr>\n",
       "    <tr>\n",
       "      <th>2</th>\n",
       "      <td>0.0</td>\n",
       "      <td>2386</td>\n",
       "      <td>0.095494</td>\n",
       "      <td>0.065255</td>\n",
       "      <td>0.461730</td>\n",
       "      <td>0.809338</td>\n",
       "    </tr>\n",
       "    <tr>\n",
       "      <th>3</th>\n",
       "      <td>0.0</td>\n",
       "      <td>851</td>\n",
       "      <td>0.133801</td>\n",
       "      <td>0.056095</td>\n",
       "      <td>0.196636</td>\n",
       "      <td>1.747853</td>\n",
       "    </tr>\n",
       "    <tr>\n",
       "      <th>4</th>\n",
       "      <td>0.0</td>\n",
       "      <td>12</td>\n",
       "      <td>0.035496</td>\n",
       "      <td>0.009222</td>\n",
       "      <td>0.196636</td>\n",
       "      <td>1.747853</td>\n",
       "    </tr>\n",
       "  </tbody>\n",
       "</table>\n",
       "</div>"
      ],
      "text/plain": [
       "   outcome  bids_per_auction  pbots_country  pbots_device  ip_bids_ratio  \\\n",
       "0      0.0               368       0.089199      0.020161       0.178624   \n",
       "1      0.0             15452       0.177281      0.055360       0.583490   \n",
       "2      0.0              2386       0.095494      0.065255       0.461730   \n",
       "3      0.0               851       0.133801      0.056095       0.196636   \n",
       "4      0.0                12       0.035496      0.009222       0.196636   \n",
       "\n",
       "   auction_url_entropy  \n",
       "0             1.463760  \n",
       "1             0.885604  \n",
       "2             0.809338  \n",
       "3             1.747853  \n",
       "4             1.747853  "
      ]
     },
     "execution_count": 172,
     "metadata": {},
     "output_type": "execute_result"
    }
   ],
   "source": [
    "df.head()"
   ]
  },
  {
   "cell_type": "code",
   "execution_count": 173,
   "metadata": {},
   "outputs": [],
   "source": [
    "bid_train, bid_test = train_test_split(df, test_size=0.2, random_state=10)"
   ]
  },
  {
   "cell_type": "code",
   "execution_count": 174,
   "metadata": {},
   "outputs": [
    {
     "data": {
      "text/plain": [
       "((2454818, 6), (613705, 6))"
      ]
     },
     "execution_count": 174,
     "metadata": {},
     "output_type": "execute_result"
    }
   ],
   "source": [
    "bid_train.shape, bid_test.shape"
   ]
  },
  {
   "cell_type": "code",
   "execution_count": 175,
   "metadata": {},
   "outputs": [
    {
     "data": {
      "text/plain": [
       "outcome\n",
       "0.0    2125389\n",
       "1.0     329429\n",
       "Name: count, dtype: int64"
      ]
     },
     "execution_count": 175,
     "metadata": {},
     "output_type": "execute_result"
    }
   ],
   "source": [
    "bid_train['outcome'].value_counts()"
   ]
  },
  {
   "cell_type": "code",
   "execution_count": 176,
   "metadata": {},
   "outputs": [],
   "source": [
    "bots__train = bid_train.loc[bid_train.outcome == 1]\n",
    "humans__train = bid_train.loc[bid_train.outcome == 0]"
   ]
  },
  {
   "cell_type": "code",
   "execution_count": 177,
   "metadata": {},
   "outputs": [
    {
     "data": {
      "text/plain": [
       "((329429, 6), (2125389, 6))"
      ]
     },
     "execution_count": 177,
     "metadata": {},
     "output_type": "execute_result"
    }
   ],
   "source": [
    "bots__train.shape, humans__train.shape"
   ]
  },
  {
   "cell_type": "code",
   "execution_count": 178,
   "metadata": {},
   "outputs": [
    {
     "data": {
      "text/plain": [
       "(329429, 6)"
      ]
     },
     "execution_count": 178,
     "metadata": {},
     "output_type": "execute_result"
    }
   ],
   "source": [
    "humans__train = humans__train.sample(n=len(bots__train))\n",
    "\n",
    "humans__train.shape"
   ]
  },
  {
   "cell_type": "code",
   "execution_count": 179,
   "metadata": {},
   "outputs": [
    {
     "data": {
      "text/plain": [
       "(658858, 6)"
      ]
     },
     "execution_count": 179,
     "metadata": {},
     "output_type": "execute_result"
    }
   ],
   "source": [
    "balanced_df = pd.concat([bots__train, humans__train])\n",
    "\n",
    "balanced_df.shape"
   ]
  },
  {
   "cell_type": "code",
   "execution_count": 180,
   "metadata": {},
   "outputs": [
    {
     "name": "stdout",
     "output_type": "stream",
     "text": [
      "The Shape Training set  :   (658858, 5)\n",
      "The shape of training labels    :   (658858,)\n",
      "The Shape Test set  :   (613705, 5)\n",
      "The shape of test labels    :   (613705,)\n"
     ]
    }
   ],
   "source": [
    "X_train = balanced_df.iloc[:, -5:]\n",
    "y_train = balanced_df['outcome']\n",
    "\n",
    "X_test = bid_test.iloc[:, -5:]\n",
    "y_test = bid_test['outcome']\n",
    "\n",
    "print(f\"The Shape Training set  :   {X_train.shape}\")\n",
    "print(f\"The shape of training labels    :   {y_train.shape}\")\n",
    "print(f\"The Shape Test set  :   {X_test.shape}\")\n",
    "print(f\"The shape of test labels    :   {y_test.shape}\")"
   ]
  },
  {
   "cell_type": "code",
   "execution_count": 181,
   "metadata": {},
   "outputs": [
    {
     "name": "stdout",
     "output_type": "stream",
     "text": [
      "The Shape of the Training set  :   (50000, 5)\n",
      "The Shape of the Training labels    :   (50000,)\n",
      "The Shape of the Test set  :   (50000, 5)\n",
      "The Shape of the Test labels    :   (50000,)\n"
     ]
    }
   ],
   "source": [
    "# Randomly sample 50,000 rows from the training set\n",
    "X_train = X_train.sample(n=50000)\n",
    "y_train = y_train[X_train.index]\n",
    "\n",
    "# Randomly sample 50,000 rows from the test set\n",
    "X_test = X_test.sample(n=50000)\n",
    "y_test = y_test[X_test.index]\n",
    "\n",
    "# Print the shapes of the training and test sets along with their corresponding labels\n",
    "print(f\"The Shape of the Training set  :   {X_train.shape}\")\n",
    "print(f\"The Shape of the Training labels    :   {y_train.shape}\")\n",
    "print(f\"The Shape of the Test set  :   {X_test.shape}\")\n",
    "print(f\"The Shape of the Test labels    :   {y_test.shape}\")\n"
   ]
  },
  {
   "cell_type": "code",
   "execution_count": 182,
   "metadata": {},
   "outputs": [],
   "source": [
    "\n",
    "def fitModel(X_train, y_train, X_test, y_test, model_name, model_algo, params, cv):\n",
    "    np.random.seed(10)\n",
    "\n",
    "    print(f\"-\"*75)\n",
    "    print(f\"Information\")\n",
    "    print(f\"-\"*75)\n",
    "    print(f\"Model Name :   {model_name}\")\n",
    "    print(f\"The Shape Training set  :   {X_train.shape}\")\n",
    "    print(f\"The shape of training labels    :   {y_train.shape}\")\n",
    "    print(f\"The Shape Test set  :   {X_test.shape}\")\n",
    "    print(f\"The shape of test labels    :   {y_test.shape}\")\n",
    "    print(f\"-\"*75)\n",
    "\n",
    "    grid = GridSearchCV(\n",
    "        estimator=model_algo,\n",
    "        param_grid=params,\n",
    "        scoring='accuracy',\n",
    "        cv=cv,\n",
    "        n_jobs=-1,\n",
    "        verbose=1\n",
    "    )\n",
    "\n",
    "    print(f\"Started fitting for model {model_name}\")\n",
    "    grid.fit(X_train, y_train)\n",
    "    print(f\"Completed fitting for model {model_name}\")\n",
    "    \n",
    "    print(f\"Started predictions for model {model_name}\")\n",
    "    y_pred = grid.predict(X_test)\n",
    "    print(f\"Completed predictions for model {model_name}\")\n",
    "\n",
    "    best_params = grid.best_params_\n",
    "    best_score = grid.best_score_\n",
    "    print(f\"-\"*75)\n",
    "    print(f\"Found Best Parameters and Best Score for {model_name}\")\n",
    "    print(f\"Best Parameters :   {best_params}\")\n",
    "    print(f\"Best Score :   {best_score}\")\n",
    "    print(f\"-\"*75)\n",
    "\n",
    "    acc_score = accuracy_score(y_test, y_pred)\n",
    "    cmat = confusion_matrix(y_test, y_pred)\n",
    "    f1 = f1_score(y_test, y_pred)\n",
    "    report = classification_report(y_test, y_pred)\n",
    "    print(f\"Accuracy Score :   {acc_score}\")\n",
    "    print(f\"Confusion Matrix :\\n{cmat}\")\n",
    "    print(f\"F1 Score :   {f1}\")\n",
    "    print(f\"Classification Report :\\n{report}\")\n",
    "    print(f\"-\"*75)\n",
    "    print(f\"-\"*75)\n"
   ]
  },
  {
   "cell_type": "markdown",
   "metadata": {},
   "source": [
    "> # DecisionTreeClassifier"
   ]
  },
  {
   "cell_type": "code",
   "execution_count": 183,
   "metadata": {},
   "outputs": [
    {
     "name": "stdout",
     "output_type": "stream",
     "text": [
      "---------------------------------------------------------------------------\n",
      "Information\n",
      "---------------------------------------------------------------------------\n",
      "Model Name :   DecisionTreeClassifier\n",
      "The Shape Training set  :   (50000, 5)\n",
      "The shape of training labels    :   (50000,)\n",
      "The Shape Test set  :   (50000, 5)\n",
      "The shape of test labels    :   (50000,)\n",
      "---------------------------------------------------------------------------\n",
      "Started fitting for model DecisionTreeClassifier\n",
      "Fitting 5 folds for each of 120 candidates, totalling 600 fits\n",
      "Completed fitting for model DecisionTreeClassifier\n",
      "Started predictions for model DecisionTreeClassifier\n",
      "Completed predictions for model DecisionTreeClassifier\n",
      "---------------------------------------------------------------------------\n",
      "Found Best Parameters and Best Score for DecisionTreeClassifier\n",
      "Best Parameters :   {'criterion': 'gini', 'max_depth': 4, 'max_leaf_nodes': 14, 'min_samples_split': 3}\n",
      "Best Score :   0.85078\n",
      "---------------------------------------------------------------------------\n",
      "Accuracy Score :   0.85024\n",
      "Confusion Matrix :\n",
      "[[36803  6528]\n",
      " [  960  5709]]\n",
      "F1 Score :   0.6039352586480482\n",
      "Classification Report :\n",
      "              precision    recall  f1-score   support\n",
      "\n",
      "         0.0       0.97      0.85      0.91     43331\n",
      "         1.0       0.47      0.86      0.60      6669\n",
      "\n",
      "    accuracy                           0.85     50000\n",
      "   macro avg       0.72      0.85      0.76     50000\n",
      "weighted avg       0.91      0.85      0.87     50000\n",
      "\n",
      "---------------------------------------------------------------------------\n",
      "---------------------------------------------------------------------------\n"
     ]
    }
   ],
   "source": [
    "\n",
    "\n",
    "decTree = DecisionTreeClassifier()\n",
    "params = {\n",
    "    'criterion': ['gini', 'entropy'],\n",
    "    'max_depth': range(3, 6),\n",
    "    'max_leaf_nodes': range(10, 15),\n",
    "    'min_samples_split': range(2, 6)\n",
    "}\n",
    "\n",
    "fitModel(\n",
    "    X_train = X_train, y_train = y_train,\n",
    "    X_test = X_test, y_test = y_test,\n",
    "    params = params,\n",
    "    model_name = 'DecisionTreeClassifier',\n",
    "    model_algo = decTree,\n",
    "    cv = 5\n",
    ")\n"
   ]
  },
  {
   "cell_type": "code",
   "execution_count": 184,
   "metadata": {},
   "outputs": [
    {
     "data": {
      "text/html": [
       "<style>#sk-container-id-5 {color: black;background-color: white;}#sk-container-id-5 pre{padding: 0;}#sk-container-id-5 div.sk-toggleable {background-color: white;}#sk-container-id-5 label.sk-toggleable__label {cursor: pointer;display: block;width: 100%;margin-bottom: 0;padding: 0.3em;box-sizing: border-box;text-align: center;}#sk-container-id-5 label.sk-toggleable__label-arrow:before {content: \"▸\";float: left;margin-right: 0.25em;color: #696969;}#sk-container-id-5 label.sk-toggleable__label-arrow:hover:before {color: black;}#sk-container-id-5 div.sk-estimator:hover label.sk-toggleable__label-arrow:before {color: black;}#sk-container-id-5 div.sk-toggleable__content {max-height: 0;max-width: 0;overflow: hidden;text-align: left;background-color: #f0f8ff;}#sk-container-id-5 div.sk-toggleable__content pre {margin: 0.2em;color: black;border-radius: 0.25em;background-color: #f0f8ff;}#sk-container-id-5 input.sk-toggleable__control:checked~div.sk-toggleable__content {max-height: 200px;max-width: 100%;overflow: auto;}#sk-container-id-5 input.sk-toggleable__control:checked~label.sk-toggleable__label-arrow:before {content: \"▾\";}#sk-container-id-5 div.sk-estimator input.sk-toggleable__control:checked~label.sk-toggleable__label {background-color: #d4ebff;}#sk-container-id-5 div.sk-label input.sk-toggleable__control:checked~label.sk-toggleable__label {background-color: #d4ebff;}#sk-container-id-5 input.sk-hidden--visually {border: 0;clip: rect(1px 1px 1px 1px);clip: rect(1px, 1px, 1px, 1px);height: 1px;margin: -1px;overflow: hidden;padding: 0;position: absolute;width: 1px;}#sk-container-id-5 div.sk-estimator {font-family: monospace;background-color: #f0f8ff;border: 1px dotted black;border-radius: 0.25em;box-sizing: border-box;margin-bottom: 0.5em;}#sk-container-id-5 div.sk-estimator:hover {background-color: #d4ebff;}#sk-container-id-5 div.sk-parallel-item::after {content: \"\";width: 100%;border-bottom: 1px solid gray;flex-grow: 1;}#sk-container-id-5 div.sk-label:hover label.sk-toggleable__label {background-color: #d4ebff;}#sk-container-id-5 div.sk-serial::before {content: \"\";position: absolute;border-left: 1px solid gray;box-sizing: border-box;top: 0;bottom: 0;left: 50%;z-index: 0;}#sk-container-id-5 div.sk-serial {display: flex;flex-direction: column;align-items: center;background-color: white;padding-right: 0.2em;padding-left: 0.2em;position: relative;}#sk-container-id-5 div.sk-item {position: relative;z-index: 1;}#sk-container-id-5 div.sk-parallel {display: flex;align-items: stretch;justify-content: center;background-color: white;position: relative;}#sk-container-id-5 div.sk-item::before, #sk-container-id-5 div.sk-parallel-item::before {content: \"\";position: absolute;border-left: 1px solid gray;box-sizing: border-box;top: 0;bottom: 0;left: 50%;z-index: -1;}#sk-container-id-5 div.sk-parallel-item {display: flex;flex-direction: column;z-index: 1;position: relative;background-color: white;}#sk-container-id-5 div.sk-parallel-item:first-child::after {align-self: flex-end;width: 50%;}#sk-container-id-5 div.sk-parallel-item:last-child::after {align-self: flex-start;width: 50%;}#sk-container-id-5 div.sk-parallel-item:only-child::after {width: 0;}#sk-container-id-5 div.sk-dashed-wrapped {border: 1px dashed gray;margin: 0 0.4em 0.5em 0.4em;box-sizing: border-box;padding-bottom: 0.4em;background-color: white;}#sk-container-id-5 div.sk-label label {font-family: monospace;font-weight: bold;display: inline-block;line-height: 1.2em;}#sk-container-id-5 div.sk-label-container {text-align: center;}#sk-container-id-5 div.sk-container {/* jupyter's `normalize.less` sets `[hidden] { display: none; }` but bootstrap.min.css set `[hidden] { display: none !important; }` so we also need the `!important` here to be able to override the default hidden behavior on the sphinx rendered scikit-learn.org. See: https://github.com/scikit-learn/scikit-learn/issues/21755 */display: inline-block !important;position: relative;}#sk-container-id-5 div.sk-text-repr-fallback {display: none;}</style><div id=\"sk-container-id-5\" class=\"sk-top-container\"><div class=\"sk-text-repr-fallback\"><pre>DecisionTreeClassifier(max_depth=4, max_leaf_nodes=13)</pre><b>In a Jupyter environment, please rerun this cell to show the HTML representation or trust the notebook. <br />On GitHub, the HTML representation is unable to render, please try loading this page with nbviewer.org.</b></div><div class=\"sk-container\" hidden><div class=\"sk-item\"><div class=\"sk-estimator sk-toggleable\"><input class=\"sk-toggleable__control sk-hidden--visually\" id=\"sk-estimator-id-5\" type=\"checkbox\" checked><label for=\"sk-estimator-id-5\" class=\"sk-toggleable__label sk-toggleable__label-arrow\">DecisionTreeClassifier</label><div class=\"sk-toggleable__content\"><pre>DecisionTreeClassifier(max_depth=4, max_leaf_nodes=13)</pre></div></div></div></div></div>"
      ],
      "text/plain": [
       "DecisionTreeClassifier(max_depth=4, max_leaf_nodes=13)"
      ]
     },
     "execution_count": 184,
     "metadata": {},
     "output_type": "execute_result"
    },
    {
     "name": "stdout",
     "output_type": "stream",
     "text": [
      "--- 0.05299234390258789 seconds ---\n"
     ]
    }
   ],
   "source": [
    "import time\n",
    "\n",
    "\n",
    "start_time = time.time()\n",
    "kwargs_regularize = dict(criterion='gini',\n",
    "                         max_depth=4,\n",
    "                         max_leaf_nodes=13,\n",
    "                         min_samples_split=2)\n",
    "dt = DecisionTreeClassifier(**kwargs_regularize)\n",
    "dt.fit(X_train, y_train)\n",
    "\n",
    "dt_time = time.time() - start_time\n",
    "print(\"--- %s seconds ---\" % (time.time() - start_time))\n"
   ]
  },
  {
   "cell_type": "code",
   "execution_count": 185,
   "metadata": {},
   "outputs": [
    {
     "name": "stdout",
     "output_type": "stream",
     "text": [
      "Feature importance of Decision Tree Model\n"
     ]
    },
    {
     "data": {
      "text/plain": [
       "<Axes: >"
      ]
     },
     "execution_count": 185,
     "metadata": {},
     "output_type": "execute_result"
    },
    {
     "data": {
      "image/png": "[encoded data removed]",
      "text/plain": [
       "<Figure size 500x500 with 1 Axes>"
      ]
     },
     "metadata": {},
     "output_type": "display_data"
    }
   ],
   "source": [
    "# Check feature importance and display in bar plot.\n",
    "print('Feature importance of Decision Tree Model')\n",
    "plt.style.use('ggplot')\n",
    "fig = plt.figure(figsize=(5, 5))\n",
    "feat_importances = pd.Series(dt.feature_importances_, index=X_train.columns)\n",
    "feat_importances.nsmallest(5).plot(kind='barh', alpha=0.7)\n",
    "fig.savefig('dt_feature.png')"
   ]
  },
  {
   "cell_type": "code",
   "execution_count": 186,
   "metadata": {},
   "outputs": [
    {
     "name": "stdout",
     "output_type": "stream",
     "text": [
      "Decision Tree Accuracy: 0.850\n"
     ]
    }
   ],
   "source": [
    "# Evaluation matrix\n",
    "# predict\n",
    "y_dt_pred = dt.predict(X_test)\n",
    "\n",
    "# Accuracy\n",
    "# accuracy score\n",
    "print(f\"Decision Tree Accuracy: {accuracy_score(y_dt_pred, y_test):.3f}\")"
   ]
  },
  {
   "cell_type": "code",
   "execution_count": 187,
   "metadata": {},
   "outputs": [],
   "source": [
    "# AUC\n",
    "# Plot ROC in one graph\n",
    "from sklearn.metrics import auc, roc_curve\n",
    "\n",
    "\n",
    "y_dt_score = dt.predict_proba(X_test)[:, 1]\n",
    "fpr_dt, tpr_dt, _dt = roc_curve(y_test, y_dt_score)\n",
    "roc_dt_auc = auc(fpr_dt, tpr_dt)"
   ]
  },
  {
   "cell_type": "code",
   "execution_count": 188,
   "metadata": {},
   "outputs": [
    {
     "data": {
      "text/plain": [
       "[<matplotlib.lines.Line2D at 0x29a8e0b19d0>]"
      ]
     },
     "execution_count": 188,
     "metadata": {},
     "output_type": "execute_result"
    },
    {
     "data": {
      "text/plain": [
       "[<matplotlib.lines.Line2D at 0x29a8eb5e050>]"
      ]
     },
     "execution_count": 188,
     "metadata": {},
     "output_type": "execute_result"
    },
    {
     "data": {
      "text/plain": [
       "(0.0, 1.0)"
      ]
     },
     "execution_count": 188,
     "metadata": {},
     "output_type": "execute_result"
    },
    {
     "data": {
      "text/plain": [
       "(0.0, 1.005)"
      ]
     },
     "execution_count": 188,
     "metadata": {},
     "output_type": "execute_result"
    },
    {
     "data": {
      "text/plain": [
       "Text(0.5, 0, 'False Positive Rate')"
      ]
     },
     "execution_count": 188,
     "metadata": {},
     "output_type": "execute_result"
    },
    {
     "data": {
      "text/plain": [
       "Text(0, 0.5, 'True Positive Rate')"
      ]
     },
     "execution_count": 188,
     "metadata": {},
     "output_type": "execute_result"
    },
    {
     "data": {
      "text/plain": [
       "Text(0.5, 1.0, 'Receiver operating characteristic [DecisionTreeClassifier]')"
      ]
     },
     "execution_count": 188,
     "metadata": {},
     "output_type": "execute_result"
    },
    {
     "data": {
      "text/plain": [
       "<matplotlib.legend.Legend at 0x29a568553d0>"
      ]
     },
     "execution_count": 188,
     "metadata": {},
     "output_type": "execute_result"
    },
    {
     "data": {
      "image/png": "[encoded data removed]",
      "text/plain": [
       "<Figure size 500x500 with 1 Axes>"
      ]
     },
     "metadata": {},
     "output_type": "display_data"
    }
   ],
   "source": [
    "fig = plt.figure(figsize=(5, 5))\n",
    "plt.plot(fpr_dt, tpr_dt, label='DT ROC curve (area = %0.2f)' % roc_dt_auc)\n",
    "plt.plot([0, 1], [0, 1], 'k--')\n",
    "plt.xlim([0.0, 1.0])\n",
    "plt.ylim([0.0, 1.005])\n",
    "plt.xlabel('False Positive Rate')\n",
    "plt.ylabel('True Positive Rate')\n",
    "plt.title('Receiver operating characteristic [DecisionTreeClassifier]')\n",
    "plt.legend(loc=\"lower right\")\n",
    "plt.show()\n",
    "fig.savefig('roc_dt_auc.png')"
   ]
  },
  {
   "cell_type": "code",
   "execution_count": 189,
   "metadata": {},
   "outputs": [
    {
     "name": "stdout",
     "output_type": "stream",
     "text": [
      "Classification Report of Decision Tree Model\n",
      "              precision    recall  f1-score   support\n",
      "\n",
      "         0.0       0.97      0.85      0.91     43331\n",
      "         1.0       0.47      0.86      0.60      6669\n",
      "\n",
      "    accuracy                           0.85     50000\n",
      "   macro avg       0.72      0.85      0.76     50000\n",
      "weighted avg       0.91      0.85      0.87     50000\n",
      "\n"
     ]
    }
   ],
   "source": [
    "# Classification Report\n",
    "print('Classification Report of Decision Tree Model')\n",
    "print(classification_report(y_test, y_dt_pred))"
   ]
  },
  {
   "cell_type": "markdown",
   "metadata": {},
   "source": [
    "> #  RandomForest"
   ]
  },
  {
   "cell_type": "code",
   "execution_count": 190,
   "metadata": {},
   "outputs": [
    {
     "name": "stdout",
     "output_type": "stream",
     "text": [
      "---------------------------------------------------------------------------\n",
      "Information\n",
      "---------------------------------------------------------------------------\n",
      "Model Name :   RandomForestClassifier\n",
      "The Shape Training set  :   (50000, 5)\n",
      "The shape of training labels    :   (50000,)\n",
      "The Shape Test set  :   (50000, 5)\n",
      "The shape of test labels    :   (50000,)\n",
      "---------------------------------------------------------------------------\n",
      "Started fitting for model RandomForestClassifier\n",
      "Fitting 5 folds for each of 144 candidates, totalling 720 fits\n",
      "Completed fitting for model RandomForestClassifier\n",
      "Started predictions for model RandomForestClassifier\n",
      "Completed predictions for model RandomForestClassifier\n",
      "---------------------------------------------------------------------------\n",
      "Found Best Parameters and Best Score for RandomForestClassifier\n",
      "Best Parameters :   {'max_depth': 5, 'max_features': 'auto', 'max_leaf_nodes': 10, 'n_estimators': 100}\n",
      "Best Score :   0.8956\n",
      "---------------------------------------------------------------------------\n",
      "Accuracy Score :   0.92932\n",
      "Confusion Matrix :\n",
      "[[40727  2604]\n",
      " [  930  5739]]\n",
      "F1 Score :   0.7645883293365308\n",
      "Classification Report :\n",
      "              precision    recall  f1-score   support\n",
      "\n",
      "         0.0       0.98      0.94      0.96     43331\n",
      "         1.0       0.69      0.86      0.76      6669\n",
      "\n",
      "    accuracy                           0.93     50000\n",
      "   macro avg       0.83      0.90      0.86     50000\n",
      "weighted avg       0.94      0.93      0.93     50000\n",
      "\n",
      "---------------------------------------------------------------------------\n",
      "---------------------------------------------------------------------------\n"
     ]
    }
   ],
   "source": [
    "rf_C = RandomForestClassifier()\n",
    "\n",
    "params = {\n",
    "    'n_estimators': [100, 500, 1000, 1500],\n",
    "    'max_depth': range(3, 6),\n",
    "    'max_leaf_nodes': range(8, 12),\n",
    "    'max_features': ['sqrt', 'auto', 'log2']\n",
    "}\n",
    "\n",
    "fitModel(\n",
    "    X_train = X_train, y_train = y_train,\n",
    "    X_test = X_test, y_test = y_test,\n",
    "    params = params,\n",
    "    model_name = 'RandomForestClassifier',\n",
    "    model_algo = rf_C,\n",
    "    cv = 5 \n",
    ")"
   ]
  },
  {
   "cell_type": "code",
   "execution_count": 191,
   "metadata": {},
   "outputs": [
    {
     "data": {
      "text/html": [
       "<style>#sk-container-id-6 {color: black;background-color: white;}#sk-container-id-6 pre{padding: 0;}#sk-container-id-6 div.sk-toggleable {background-color: white;}#sk-container-id-6 label.sk-toggleable__label {cursor: pointer;display: block;width: 100%;margin-bottom: 0;padding: 0.3em;box-sizing: border-box;text-align: center;}#sk-container-id-6 label.sk-toggleable__label-arrow:before {content: \"▸\";float: left;margin-right: 0.25em;color: #696969;}#sk-container-id-6 label.sk-toggleable__label-arrow:hover:before {color: black;}#sk-container-id-6 div.sk-estimator:hover label.sk-toggleable__label-arrow:before {color: black;}#sk-container-id-6 div.sk-toggleable__content {max-height: 0;max-width: 0;overflow: hidden;text-align: left;background-color: #f0f8ff;}#sk-container-id-6 div.sk-toggleable__content pre {margin: 0.2em;color: black;border-radius: 0.25em;background-color: #f0f8ff;}#sk-container-id-6 input.sk-toggleable__control:checked~div.sk-toggleable__content {max-height: 200px;max-width: 100%;overflow: auto;}#sk-container-id-6 input.sk-toggleable__control:checked~label.sk-toggleable__label-arrow:before {content: \"▾\";}#sk-container-id-6 div.sk-estimator input.sk-toggleable__control:checked~label.sk-toggleable__label {background-color: #d4ebff;}#sk-container-id-6 div.sk-label input.sk-toggleable__control:checked~label.sk-toggleable__label {background-color: #d4ebff;}#sk-container-id-6 input.sk-hidden--visually {border: 0;clip: rect(1px 1px 1px 1px);clip: rect(1px, 1px, 1px, 1px);height: 1px;margin: -1px;overflow: hidden;padding: 0;position: absolute;width: 1px;}#sk-container-id-6 div.sk-estimator {font-family: monospace;background-color: #f0f8ff;border: 1px dotted black;border-radius: 0.25em;box-sizing: border-box;margin-bottom: 0.5em;}#sk-container-id-6 div.sk-estimator:hover {background-color: #d4ebff;}#sk-container-id-6 div.sk-parallel-item::after {content: \"\";width: 100%;border-bottom: 1px solid gray;flex-grow: 1;}#sk-container-id-6 div.sk-label:hover label.sk-toggleable__label {background-color: #d4ebff;}#sk-container-id-6 div.sk-serial::before {content: \"\";position: absolute;border-left: 1px solid gray;box-sizing: border-box;top: 0;bottom: 0;left: 50%;z-index: 0;}#sk-container-id-6 div.sk-serial {display: flex;flex-direction: column;align-items: center;background-color: white;padding-right: 0.2em;padding-left: 0.2em;position: relative;}#sk-container-id-6 div.sk-item {position: relative;z-index: 1;}#sk-container-id-6 div.sk-parallel {display: flex;align-items: stretch;justify-content: center;background-color: white;position: relative;}#sk-container-id-6 div.sk-item::before, #sk-container-id-6 div.sk-parallel-item::before {content: \"\";position: absolute;border-left: 1px solid gray;box-sizing: border-box;top: 0;bottom: 0;left: 50%;z-index: -1;}#sk-container-id-6 div.sk-parallel-item {display: flex;flex-direction: column;z-index: 1;position: relative;background-color: white;}#sk-container-id-6 div.sk-parallel-item:first-child::after {align-self: flex-end;width: 50%;}#sk-container-id-6 div.sk-parallel-item:last-child::after {align-self: flex-start;width: 50%;}#sk-container-id-6 div.sk-parallel-item:only-child::after {width: 0;}#sk-container-id-6 div.sk-dashed-wrapped {border: 1px dashed gray;margin: 0 0.4em 0.5em 0.4em;box-sizing: border-box;padding-bottom: 0.4em;background-color: white;}#sk-container-id-6 div.sk-label label {font-family: monospace;font-weight: bold;display: inline-block;line-height: 1.2em;}#sk-container-id-6 div.sk-label-container {text-align: center;}#sk-container-id-6 div.sk-container {/* jupyter's `normalize.less` sets `[hidden] { display: none; }` but bootstrap.min.css set `[hidden] { display: none !important; }` so we also need the `!important` here to be able to override the default hidden behavior on the sphinx rendered scikit-learn.org. See: https://github.com/scikit-learn/scikit-learn/issues/21755 */display: inline-block !important;position: relative;}#sk-container-id-6 div.sk-text-repr-fallback {display: none;}</style><div id=\"sk-container-id-6\" class=\"sk-top-container\"><div class=\"sk-text-repr-fallback\"><pre>RandomForestClassifier(max_depth=5, max_features=&#x27;log2&#x27;, max_leaf_nodes=11,\n",
       "                       n_estimators=1000)</pre><b>In a Jupyter environment, please rerun this cell to show the HTML representation or trust the notebook. <br />On GitHub, the HTML representation is unable to render, please try loading this page with nbviewer.org.</b></div><div class=\"sk-container\" hidden><div class=\"sk-item\"><div class=\"sk-estimator sk-toggleable\"><input class=\"sk-toggleable__control sk-hidden--visually\" id=\"sk-estimator-id-6\" type=\"checkbox\" checked><label for=\"sk-estimator-id-6\" class=\"sk-toggleable__label sk-toggleable__label-arrow\">RandomForestClassifier</label><div class=\"sk-toggleable__content\"><pre>RandomForestClassifier(max_depth=5, max_features=&#x27;log2&#x27;, max_leaf_nodes=11,\n",
       "                       n_estimators=1000)</pre></div></div></div></div></div>"
      ],
      "text/plain": [
       "RandomForestClassifier(max_depth=5, max_features='log2', max_leaf_nodes=11,\n",
       "                       n_estimators=1000)"
      ]
     },
     "execution_count": 191,
     "metadata": {},
     "output_type": "execute_result"
    },
    {
     "name": "stdout",
     "output_type": "stream",
     "text": [
      "--- 1461.7541010379791 seconds ---\n"
     ]
    }
   ],
   "source": [
    "kwargs_regularize = dict(\n",
    "                         max_depth=5,\n",
    "                         max_features = 'log2',\n",
    "                         max_leaf_nodes=11,\n",
    "                         n_estimators=1000)\n",
    "rf = RandomForestClassifier(**kwargs_regularize)\n",
    "rf.fit(X_train, y_train)\n",
    "\n",
    "rf_time = time.time() - start_time\n",
    "print(\"--- %s seconds ---\" % (time.time() - start_time))"
   ]
  },
  {
   "cell_type": "code",
   "execution_count": 192,
   "metadata": {},
   "outputs": [
    {
     "name": "stdout",
     "output_type": "stream",
     "text": [
      "Feature importance of Decision Tree Model\n"
     ]
    },
    {
     "data": {
      "text/plain": [
       "<Axes: >"
      ]
     },
     "execution_count": 192,
     "metadata": {},
     "output_type": "execute_result"
    },
    {
     "data": {
      "image/png": "[encoded data removed]",
      "text/plain": [
       "<Figure size 500x500 with 1 Axes>"
      ]
     },
     "metadata": {},
     "output_type": "display_data"
    }
   ],
   "source": [
    "# Check feature importance and display in bar plot.\n",
    "print('Feature importance of Decision Tree Model')\n",
    "plt.style.use('ggplot')\n",
    "fig = plt.figure(figsize=(5, 5))\n",
    "feat_importances = pd.Series(rf.feature_importances_, index=X_train.columns)\n",
    "feat_importances.nsmallest(5).plot(kind='barh', alpha=0.7)\n",
    "fig.savefig('rff_feature.png')"
   ]
  },
  {
   "cell_type": "code",
   "execution_count": 193,
   "metadata": {},
   "outputs": [
    {
     "name": "stdout",
     "output_type": "stream",
     "text": [
      "Random Forest Accuracy: 0.928\n"
     ]
    }
   ],
   "source": [
    "# Evaluation matrix\n",
    "# predict\n",
    "y_rf_pred = rf.predict(X_test)\n",
    "\n",
    "# Accuracy\n",
    "# accuracy score\n",
    "print(f\"Random Forest Accuracy: {accuracy_score(y_rf_pred, y_test):.3f}\")"
   ]
  },
  {
   "cell_type": "code",
   "execution_count": 195,
   "metadata": {},
   "outputs": [
    {
     "data": {
      "text/plain": [
       "[<matplotlib.lines.Line2D at 0x29a32bd4e50>]"
      ]
     },
     "execution_count": 195,
     "metadata": {},
     "output_type": "execute_result"
    },
    {
     "data": {
      "text/plain": [
       "[<matplotlib.lines.Line2D at 0x29a32b0e3d0>]"
      ]
     },
     "execution_count": 195,
     "metadata": {},
     "output_type": "execute_result"
    },
    {
     "data": {
      "text/plain": [
       "(0.0, 1.0)"
      ]
     },
     "execution_count": 195,
     "metadata": {},
     "output_type": "execute_result"
    },
    {
     "data": {
      "text/plain": [
       "(0.0, 1.005)"
      ]
     },
     "execution_count": 195,
     "metadata": {},
     "output_type": "execute_result"
    },
    {
     "data": {
      "text/plain": [
       "Text(0.5, 0, 'False Positive Rate')"
      ]
     },
     "execution_count": 195,
     "metadata": {},
     "output_type": "execute_result"
    },
    {
     "data": {
      "text/plain": [
       "Text(0, 0.5, 'True Positive Rate')"
      ]
     },
     "execution_count": 195,
     "metadata": {},
     "output_type": "execute_result"
    },
    {
     "data": {
      "text/plain": [
       "Text(0.5, 1.0, 'Receiver operating characteristic [Random Forest Classifier]')"
      ]
     },
     "execution_count": 195,
     "metadata": {},
     "output_type": "execute_result"
    },
    {
     "data": {
      "text/plain": [
       "<matplotlib.legend.Legend at 0x29a32bcdd50>"
      ]
     },
     "execution_count": 195,
     "metadata": {},
     "output_type": "execute_result"
    },
    {
     "data": {
      "image/png": "[encoded data removed]",
      "text/plain": [
       "<Figure size 500x500 with 1 Axes>"
      ]
     },
     "metadata": {},
     "output_type": "display_data"
    }
   ],
   "source": [
    "# AUC\n",
    "# Plot ROC in one graph\n",
    "\n",
    "y_rf_score = rf.predict_proba(X_test)[:, 1]\n",
    "fpr_rf, tpr_rf, _rf = roc_curve(y_test, y_rf_score)\n",
    "roc_rf_auc = auc(fpr_rf, tpr_rf)\n",
    "fig = plt.figure(figsize=(5, 5))\n",
    "plt.plot(fpr_rf, tpr_rf, label='DT ROC curve (area = %0.2f)' % roc_rf_auc)\n",
    "plt.plot([0, 1], [0, 1], 'k--')\n",
    "plt.xlim([0.0, 1.0])\n",
    "plt.ylim([0.0, 1.005])\n",
    "plt.xlabel('False Positive Rate')\n",
    "plt.ylabel('True Positive Rate')\n",
    "plt.title('Receiver operating characteristic [Random Forest Classifier]')\n",
    "plt.legend(loc=\"lower right\")\n",
    "plt.show()\n",
    "fig.savefig('roc_rf_auc.png')"
   ]
  },
  {
   "cell_type": "code",
   "execution_count": 196,
   "metadata": {},
   "outputs": [
    {
     "name": "stdout",
     "output_type": "stream",
     "text": [
      "Classification Report of Random Forest Model\n",
      "              precision    recall  f1-score   support\n",
      "\n",
      "         0.0       0.98      0.94      0.96     43331\n",
      "         1.0       0.69      0.85      0.76      6669\n",
      "\n",
      "    accuracy                           0.93     50000\n",
      "   macro avg       0.83      0.90      0.86     50000\n",
      "weighted avg       0.94      0.93      0.93     50000\n",
      "\n"
     ]
    }
   ],
   "source": [
    "# Classification Report\n",
    "print('Classification Report of Random Forest Model')\n",
    "print(classification_report(y_test, y_rf_pred))"
   ]
  },
  {
   "cell_type": "markdown",
   "metadata": {},
   "source": [
    "> # GradientBoostingClassifier"
   ]
  },
  {
   "cell_type": "code",
   "execution_count": 197,
   "metadata": {},
   "outputs": [
    {
     "name": "stdout",
     "output_type": "stream",
     "text": [
      "---------------------------------------------------------------------------\n",
      "Information\n",
      "---------------------------------------------------------------------------\n",
      "Model Name :   GradientBoostingClassifier\n",
      "The Shape Training set  :   (50000, 5)\n",
      "The shape of training labels    :   (50000,)\n",
      "The Shape Test set  :   (50000, 5)\n",
      "The shape of test labels    :   (50000,)\n",
      "---------------------------------------------------------------------------\n",
      "Started fitting for model GradientBoostingClassifier\n",
      "Fitting 5 folds for each of 9 candidates, totalling 45 fits\n",
      "Completed fitting for model GradientBoostingClassifier\n",
      "Started predictions for model GradientBoostingClassifier\n",
      "Completed predictions for model GradientBoostingClassifier\n",
      "---------------------------------------------------------------------------\n",
      "Found Best Parameters and Best Score for GradientBoostingClassifier\n",
      "Best Parameters :   {'max_depth': 5, 'max_leaf_nodes': 9}\n",
      "Best Score :   0.9865400000000001\n",
      "---------------------------------------------------------------------------\n",
      "Accuracy Score :   0.9832\n",
      "Confusion Matrix :\n",
      "[[42589   742]\n",
      " [   98  6571]]\n",
      "F1 Score :   0.9399227578314976\n",
      "Classification Report :\n",
      "              precision    recall  f1-score   support\n",
      "\n",
      "         0.0       1.00      0.98      0.99     43331\n",
      "         1.0       0.90      0.99      0.94      6669\n",
      "\n",
      "    accuracy                           0.98     50000\n",
      "   macro avg       0.95      0.98      0.97     50000\n",
      "weighted avg       0.98      0.98      0.98     50000\n",
      "\n",
      "---------------------------------------------------------------------------\n",
      "---------------------------------------------------------------------------\n"
     ]
    }
   ],
   "source": [
    "gb = GradientBoostingClassifier()\n",
    "\n",
    "params = {\n",
    "    'max_depth': range(3, 6),\n",
    "    'max_leaf_nodes': range(8, 11)\n",
    "}\n",
    "\n",
    "fitModel(\n",
    "    X_train = X_train, y_train = y_train,\n",
    "    X_test = X_test, y_test = y_test,\n",
    "    params = params,\n",
    "    model_name = 'GradientBoostingClassifier',\n",
    "    model_algo = gb,\n",
    "    cv = 5\n",
    ")"
   ]
  },
  {
   "cell_type": "code",
   "execution_count": 198,
   "metadata": {},
   "outputs": [
    {
     "data": {
      "text/html": [
       "<style>#sk-container-id-7 {color: black;background-color: white;}#sk-container-id-7 pre{padding: 0;}#sk-container-id-7 div.sk-toggleable {background-color: white;}#sk-container-id-7 label.sk-toggleable__label {cursor: pointer;display: block;width: 100%;margin-bottom: 0;padding: 0.3em;box-sizing: border-box;text-align: center;}#sk-container-id-7 label.sk-toggleable__label-arrow:before {content: \"▸\";float: left;margin-right: 0.25em;color: #696969;}#sk-container-id-7 label.sk-toggleable__label-arrow:hover:before {color: black;}#sk-container-id-7 div.sk-estimator:hover label.sk-toggleable__label-arrow:before {color: black;}#sk-container-id-7 div.sk-toggleable__content {max-height: 0;max-width: 0;overflow: hidden;text-align: left;background-color: #f0f8ff;}#sk-container-id-7 div.sk-toggleable__content pre {margin: 0.2em;color: black;border-radius: 0.25em;background-color: #f0f8ff;}#sk-container-id-7 input.sk-toggleable__control:checked~div.sk-toggleable__content {max-height: 200px;max-width: 100%;overflow: auto;}#sk-container-id-7 input.sk-toggleable__control:checked~label.sk-toggleable__label-arrow:before {content: \"▾\";}#sk-container-id-7 div.sk-estimator input.sk-toggleable__control:checked~label.sk-toggleable__label {background-color: #d4ebff;}#sk-container-id-7 div.sk-label input.sk-toggleable__control:checked~label.sk-toggleable__label {background-color: #d4ebff;}#sk-container-id-7 input.sk-hidden--visually {border: 0;clip: rect(1px 1px 1px 1px);clip: rect(1px, 1px, 1px, 1px);height: 1px;margin: -1px;overflow: hidden;padding: 0;position: absolute;width: 1px;}#sk-container-id-7 div.sk-estimator {font-family: monospace;background-color: #f0f8ff;border: 1px dotted black;border-radius: 0.25em;box-sizing: border-box;margin-bottom: 0.5em;}#sk-container-id-7 div.sk-estimator:hover {background-color: #d4ebff;}#sk-container-id-7 div.sk-parallel-item::after {content: \"\";width: 100%;border-bottom: 1px solid gray;flex-grow: 1;}#sk-container-id-7 div.sk-label:hover label.sk-toggleable__label {background-color: #d4ebff;}#sk-container-id-7 div.sk-serial::before {content: \"\";position: absolute;border-left: 1px solid gray;box-sizing: border-box;top: 0;bottom: 0;left: 50%;z-index: 0;}#sk-container-id-7 div.sk-serial {display: flex;flex-direction: column;align-items: center;background-color: white;padding-right: 0.2em;padding-left: 0.2em;position: relative;}#sk-container-id-7 div.sk-item {position: relative;z-index: 1;}#sk-container-id-7 div.sk-parallel {display: flex;align-items: stretch;justify-content: center;background-color: white;position: relative;}#sk-container-id-7 div.sk-item::before, #sk-container-id-7 div.sk-parallel-item::before {content: \"\";position: absolute;border-left: 1px solid gray;box-sizing: border-box;top: 0;bottom: 0;left: 50%;z-index: -1;}#sk-container-id-7 div.sk-parallel-item {display: flex;flex-direction: column;z-index: 1;position: relative;background-color: white;}#sk-container-id-7 div.sk-parallel-item:first-child::after {align-self: flex-end;width: 50%;}#sk-container-id-7 div.sk-parallel-item:last-child::after {align-self: flex-start;width: 50%;}#sk-container-id-7 div.sk-parallel-item:only-child::after {width: 0;}#sk-container-id-7 div.sk-dashed-wrapped {border: 1px dashed gray;margin: 0 0.4em 0.5em 0.4em;box-sizing: border-box;padding-bottom: 0.4em;background-color: white;}#sk-container-id-7 div.sk-label label {font-family: monospace;font-weight: bold;display: inline-block;line-height: 1.2em;}#sk-container-id-7 div.sk-label-container {text-align: center;}#sk-container-id-7 div.sk-container {/* jupyter's `normalize.less` sets `[hidden] { display: none; }` but bootstrap.min.css set `[hidden] { display: none !important; }` so we also need the `!important` here to be able to override the default hidden behavior on the sphinx rendered scikit-learn.org. See: https://github.com/scikit-learn/scikit-learn/issues/21755 */display: inline-block !important;position: relative;}#sk-container-id-7 div.sk-text-repr-fallback {display: none;}</style><div id=\"sk-container-id-7\" class=\"sk-top-container\"><div class=\"sk-text-repr-fallback\"><pre>GradientBoostingClassifier(max_depth=5, max_features=&#x27;sqrt&#x27;, max_leaf_nodes=10)</pre><b>In a Jupyter environment, please rerun this cell to show the HTML representation or trust the notebook. <br />On GitHub, the HTML representation is unable to render, please try loading this page with nbviewer.org.</b></div><div class=\"sk-container\" hidden><div class=\"sk-item\"><div class=\"sk-estimator sk-toggleable\"><input class=\"sk-toggleable__control sk-hidden--visually\" id=\"sk-estimator-id-7\" type=\"checkbox\" checked><label for=\"sk-estimator-id-7\" class=\"sk-toggleable__label sk-toggleable__label-arrow\">GradientBoostingClassifier</label><div class=\"sk-toggleable__content\"><pre>GradientBoostingClassifier(max_depth=5, max_features=&#x27;sqrt&#x27;, max_leaf_nodes=10)</pre></div></div></div></div></div>"
      ],
      "text/plain": [
       "GradientBoostingClassifier(max_depth=5, max_features='sqrt', max_leaf_nodes=10)"
      ]
     },
     "execution_count": 198,
     "metadata": {},
     "output_type": "execute_result"
    },
    {
     "name": "stdout",
     "output_type": "stream",
     "text": [
      "--- 2.4502296447753906 seconds ---\n"
     ]
    }
   ],
   "source": [
    "start_time = time.time()\n",
    "\n",
    "gb = GradientBoostingClassifier(n_estimators=100, \n",
    "                                max_depth=5, \n",
    "                                max_features='sqrt',\n",
    "                                max_leaf_nodes=10)\n",
    "gb.fit(X_train, y_train)\n",
    "\n",
    "gb_time = time.time() - start_time\n",
    "print(\"--- %s seconds ---\" % (time.time() - start_time))"
   ]
  },
  {
   "cell_type": "code",
   "execution_count": 199,
   "metadata": {},
   "outputs": [
    {
     "name": "stdout",
     "output_type": "stream",
     "text": [
      "Feature importance of Gradient Boosting Model\n"
     ]
    },
    {
     "data": {
      "text/plain": [
       "<Axes: >"
      ]
     },
     "execution_count": 199,
     "metadata": {},
     "output_type": "execute_result"
    },
    {
     "data": {
      "image/png": "[encoded data removed]",
      "text/plain": [
       "<Figure size 500x500 with 1 Axes>"
      ]
     },
     "metadata": {},
     "output_type": "display_data"
    }
   ],
   "source": [
    "# Check feature importance and display in bar plot.\n",
    "print('Feature importance of Gradient Boosting Model')\n",
    "plt.style.use('ggplot')\n",
    "fig = plt.figure(figsize=(5, 5))\n",
    "feat_importances = pd.Series(gb.feature_importances_, index=X_train.columns)\n",
    "feat_importances.nsmallest(5).plot(kind='barh', alpha=0.7)\n",
    "fig.savefig('gb_feature.png')"
   ]
  },
  {
   "cell_type": "code",
   "execution_count": 200,
   "metadata": {},
   "outputs": [
    {
     "name": "stdout",
     "output_type": "stream",
     "text": [
      "Gradient Boosting Accuracy: 0.980\n"
     ]
    }
   ],
   "source": [
    "# Accuracy\n",
    "y_gb_pred = gb.predict(X_test)\n",
    "print(f\"Gradient Boosting Accuracy: {accuracy_score(y_gb_pred, y_test):.3f}\")"
   ]
  },
  {
   "cell_type": "code",
   "execution_count": 201,
   "metadata": {},
   "outputs": [
    {
     "data": {
      "text/plain": [
       "<Figure size 500x500 with 0 Axes>"
      ]
     },
     "execution_count": 201,
     "metadata": {},
     "output_type": "execute_result"
    },
    {
     "data": {
      "text/plain": [
       "[<matplotlib.lines.Line2D at 0x29a35f2e750>]"
      ]
     },
     "execution_count": 201,
     "metadata": {},
     "output_type": "execute_result"
    },
    {
     "data": {
      "text/plain": [
       "[<matplotlib.lines.Line2D at 0x29a32d278d0>]"
      ]
     },
     "execution_count": 201,
     "metadata": {},
     "output_type": "execute_result"
    },
    {
     "data": {
      "text/plain": [
       "(0.0, 1.0)"
      ]
     },
     "execution_count": 201,
     "metadata": {},
     "output_type": "execute_result"
    },
    {
     "data": {
      "text/plain": [
       "(0.0, 1.005)"
      ]
     },
     "execution_count": 201,
     "metadata": {},
     "output_type": "execute_result"
    },
    {
     "data": {
      "text/plain": [
       "Text(0.5, 0, 'False Positive Rate')"
      ]
     },
     "execution_count": 201,
     "metadata": {},
     "output_type": "execute_result"
    },
    {
     "data": {
      "text/plain": [
       "Text(0, 0.5, 'True Positive Rate')"
      ]
     },
     "execution_count": 201,
     "metadata": {},
     "output_type": "execute_result"
    },
    {
     "data": {
      "text/plain": [
       "Text(0.5, 1.0, 'Receiver operating characteristic[GB]')"
      ]
     },
     "execution_count": 201,
     "metadata": {},
     "output_type": "execute_result"
    },
    {
     "data": {
      "text/plain": [
       "<matplotlib.legend.Legend at 0x29a32d653d0>"
      ]
     },
     "execution_count": 201,
     "metadata": {},
     "output_type": "execute_result"
    },
    {
     "data": {
      "image/png": "[encoded data removed]",
      "text/plain": [
       "<Figure size 500x500 with 1 Axes>"
      ]
     },
     "metadata": {},
     "output_type": "display_data"
    }
   ],
   "source": [
    "# Plot ROC in one graph\n",
    "y_gb_score = gb.predict_proba(X_test)[:, 1]\n",
    "fpr_gb, tpr_gb, _gb = roc_curve(y_test, y_gb_score)\n",
    "roc_gb_auc = auc(fpr_gb, tpr_gb)\n",
    "\n",
    "plt.figure(figsize=(5, 5))\n",
    "plt.plot(fpr_gb, tpr_gb, label='GB ROC curve (area = %0.2f)' % roc_gb_auc)\n",
    "plt.plot([0, 1], [0, 1], 'k--')\n",
    "plt.xlim([0.0, 1.0])\n",
    "plt.ylim([0.0, 1.005])\n",
    "plt.xlabel('False Positive Rate')\n",
    "plt.ylabel('True Positive Rate')\n",
    "plt.title('Receiver operating characteristic[GB]')\n",
    "plt.legend(loc=\"lower right\")\n",
    "plt.show()\n",
    "fig.savefig('roc_gb_auc.png')"
   ]
  },
  {
   "cell_type": "code",
   "execution_count": 202,
   "metadata": {},
   "outputs": [
    {
     "name": "stdout",
     "output_type": "stream",
     "text": [
      "Classification Report of Gradient Boosting Model\n",
      "              precision    recall  f1-score   support\n",
      "\n",
      "         0.0       1.00      0.98      0.99     43331\n",
      "         1.0       0.88      0.98      0.93      6669\n",
      "\n",
      "    accuracy                           0.98     50000\n",
      "   macro avg       0.94      0.98      0.96     50000\n",
      "weighted avg       0.98      0.98      0.98     50000\n",
      "\n"
     ]
    }
   ],
   "source": [
    "print('Classification Report of Gradient Boosting Model')\n",
    "print(classification_report(y_test, y_gb_pred))"
   ]
  },
  {
   "cell_type": "markdown",
   "metadata": {},
   "source": [
    "> # XGBoost"
   ]
  },
  {
   "cell_type": "code",
   "execution_count": 203,
   "metadata": {},
   "outputs": [
    {
     "name": "stdout",
     "output_type": "stream",
     "text": [
      "---------------------------------------------------------------------------\n",
      "Information\n",
      "---------------------------------------------------------------------------\n",
      "Model Name :   XGBClassifier\n",
      "The Shape Training set  :   (50000, 5)\n",
      "The shape of training labels    :   (50000,)\n",
      "The Shape Test set  :   (50000, 5)\n",
      "The shape of test labels    :   (50000,)\n",
      "---------------------------------------------------------------------------\n",
      "Started fitting for model XGBClassifier\n",
      "Fitting 5 folds for each of 108 candidates, totalling 540 fits\n",
      "Completed fitting for model XGBClassifier\n",
      "Started predictions for model XGBClassifier\n",
      "Completed predictions for model XGBClassifier\n",
      "---------------------------------------------------------------------------\n",
      "Found Best Parameters and Best Score for XGBClassifier\n",
      "Best Parameters :   {'gamma': 0, 'learning_rate': 0.1, 'max_depth': 5, 'n_estimators': 1500}\n",
      "Best Score :   0.99846\n",
      "---------------------------------------------------------------------------\n",
      "Accuracy Score :   0.99854\n",
      "Confusion Matrix :\n",
      "[[43261    70]\n",
      " [    3  6666]]\n",
      "F1 Score :   0.9945542707944797\n",
      "Classification Report :\n",
      "              precision    recall  f1-score   support\n",
      "\n",
      "         0.0       1.00      1.00      1.00     43331\n",
      "         1.0       0.99      1.00      0.99      6669\n",
      "\n",
      "    accuracy                           1.00     50000\n",
      "   macro avg       0.99      1.00      1.00     50000\n",
      "weighted avg       1.00      1.00      1.00     50000\n",
      "\n",
      "---------------------------------------------------------------------------\n",
      "---------------------------------------------------------------------------\n"
     ]
    }
   ],
   "source": [
    "xgb = XGBClassifier()\n",
    "\n",
    "params = {\n",
    "    'n_estimators': [100, 500, 1000, 1500],\n",
    "    'learning_rate': [0.01, 0.05, 0.1],\n",
    "    'max_depth': [3, 5, 7],\n",
    "    'gamma': [0, 0.1, 0.2],\n",
    "}\n",
    "\n",
    "fitModel(\n",
    "    X_train = X_train, y_train = y_train,\n",
    "    X_test = X_test, y_test = y_test,\n",
    "    params = params,\n",
    "    model_name = 'XGBClassifier',\n",
    "    model_algo = xgb,\n",
    "    cv = 5\n",
    ")"
   ]
  },
  {
   "cell_type": "code",
   "execution_count": 204,
   "metadata": {},
   "outputs": [
    {
     "data": {
      "text/html": [
       "<style>#sk-container-id-8 {color: black;background-color: white;}#sk-container-id-8 pre{padding: 0;}#sk-container-id-8 div.sk-toggleable {background-color: white;}#sk-container-id-8 label.sk-toggleable__label {cursor: pointer;display: block;width: 100%;margin-bottom: 0;padding: 0.3em;box-sizing: border-box;text-align: center;}#sk-container-id-8 label.sk-toggleable__label-arrow:before {content: \"▸\";float: left;margin-right: 0.25em;color: #696969;}#sk-container-id-8 label.sk-toggleable__label-arrow:hover:before {color: black;}#sk-container-id-8 div.sk-estimator:hover label.sk-toggleable__label-arrow:before {color: black;}#sk-container-id-8 div.sk-toggleable__content {max-height: 0;max-width: 0;overflow: hidden;text-align: left;background-color: #f0f8ff;}#sk-container-id-8 div.sk-toggleable__content pre {margin: 0.2em;color: black;border-radius: 0.25em;background-color: #f0f8ff;}#sk-container-id-8 input.sk-toggleable__control:checked~div.sk-toggleable__content {max-height: 200px;max-width: 100%;overflow: auto;}#sk-container-id-8 input.sk-toggleable__control:checked~label.sk-toggleable__label-arrow:before {content: \"▾\";}#sk-container-id-8 div.sk-estimator input.sk-toggleable__control:checked~label.sk-toggleable__label {background-color: #d4ebff;}#sk-container-id-8 div.sk-label input.sk-toggleable__control:checked~label.sk-toggleable__label {background-color: #d4ebff;}#sk-container-id-8 input.sk-hidden--visually {border: 0;clip: rect(1px 1px 1px 1px);clip: rect(1px, 1px, 1px, 1px);height: 1px;margin: -1px;overflow: hidden;padding: 0;position: absolute;width: 1px;}#sk-container-id-8 div.sk-estimator {font-family: monospace;background-color: #f0f8ff;border: 1px dotted black;border-radius: 0.25em;box-sizing: border-box;margin-bottom: 0.5em;}#sk-container-id-8 div.sk-estimator:hover {background-color: #d4ebff;}#sk-container-id-8 div.sk-parallel-item::after {content: \"\";width: 100%;border-bottom: 1px solid gray;flex-grow: 1;}#sk-container-id-8 div.sk-label:hover label.sk-toggleable__label {background-color: #d4ebff;}#sk-container-id-8 div.sk-serial::before {content: \"\";position: absolute;border-left: 1px solid gray;box-sizing: border-box;top: 0;bottom: 0;left: 50%;z-index: 0;}#sk-container-id-8 div.sk-serial {display: flex;flex-direction: column;align-items: center;background-color: white;padding-right: 0.2em;padding-left: 0.2em;position: relative;}#sk-container-id-8 div.sk-item {position: relative;z-index: 1;}#sk-container-id-8 div.sk-parallel {display: flex;align-items: stretch;justify-content: center;background-color: white;position: relative;}#sk-container-id-8 div.sk-item::before, #sk-container-id-8 div.sk-parallel-item::before {content: \"\";position: absolute;border-left: 1px solid gray;box-sizing: border-box;top: 0;bottom: 0;left: 50%;z-index: -1;}#sk-container-id-8 div.sk-parallel-item {display: flex;flex-direction: column;z-index: 1;position: relative;background-color: white;}#sk-container-id-8 div.sk-parallel-item:first-child::after {align-self: flex-end;width: 50%;}#sk-container-id-8 div.sk-parallel-item:last-child::after {align-self: flex-start;width: 50%;}#sk-container-id-8 div.sk-parallel-item:only-child::after {width: 0;}#sk-container-id-8 div.sk-dashed-wrapped {border: 1px dashed gray;margin: 0 0.4em 0.5em 0.4em;box-sizing: border-box;padding-bottom: 0.4em;background-color: white;}#sk-container-id-8 div.sk-label label {font-family: monospace;font-weight: bold;display: inline-block;line-height: 1.2em;}#sk-container-id-8 div.sk-label-container {text-align: center;}#sk-container-id-8 div.sk-container {/* jupyter's `normalize.less` sets `[hidden] { display: none; }` but bootstrap.min.css set `[hidden] { display: none !important; }` so we also need the `!important` here to be able to override the default hidden behavior on the sphinx rendered scikit-learn.org. See: https://github.com/scikit-learn/scikit-learn/issues/21755 */display: inline-block !important;position: relative;}#sk-container-id-8 div.sk-text-repr-fallback {display: none;}</style><div id=\"sk-container-id-8\" class=\"sk-top-container\"><div class=\"sk-text-repr-fallback\"><pre>XGBClassifier(base_score=None, booster=None, callbacks=None,\n",
       "              colsample_bylevel=None, colsample_bynode=None,\n",
       "              colsample_bytree=None, device=None, early_stopping_rounds=None,\n",
       "              enable_categorical=False, eval_metric=None, feature_types=None,\n",
       "              gamma=0, grow_policy=None, importance_type=None,\n",
       "              interaction_constraints=None, learning_rate=0.1, max_bin=None,\n",
       "              max_cat_threshold=None, max_cat_to_onehot=None,\n",
       "              max_delta_step=None, max_depth=7, max_leaves=None,\n",
       "              min_child_weight=None, missing=nan, monotone_constraints=None,\n",
       "              multi_strategy=None, n_estimators=1000, n_jobs=None,\n",
       "              num_parallel_tree=None, random_state=None, ...)</pre><b>In a Jupyter environment, please rerun this cell to show the HTML representation or trust the notebook. <br />On GitHub, the HTML representation is unable to render, please try loading this page with nbviewer.org.</b></div><div class=\"sk-container\" hidden><div class=\"sk-item\"><div class=\"sk-estimator sk-toggleable\"><input class=\"sk-toggleable__control sk-hidden--visually\" id=\"sk-estimator-id-8\" type=\"checkbox\" checked><label for=\"sk-estimator-id-8\" class=\"sk-toggleable__label sk-toggleable__label-arrow\">XGBClassifier</label><div class=\"sk-toggleable__content\"><pre>XGBClassifier(base_score=None, booster=None, callbacks=None,\n",
       "              colsample_bylevel=None, colsample_bynode=None,\n",
       "              colsample_bytree=None, device=None, early_stopping_rounds=None,\n",
       "              enable_categorical=False, eval_metric=None, feature_types=None,\n",
       "              gamma=0, grow_policy=None, importance_type=None,\n",
       "              interaction_constraints=None, learning_rate=0.1, max_bin=None,\n",
       "              max_cat_threshold=None, max_cat_to_onehot=None,\n",
       "              max_delta_step=None, max_depth=7, max_leaves=None,\n",
       "              min_child_weight=None, missing=nan, monotone_constraints=None,\n",
       "              multi_strategy=None, n_estimators=1000, n_jobs=None,\n",
       "              num_parallel_tree=None, random_state=None, ...)</pre></div></div></div></div></div>"
      ],
      "text/plain": [
       "XGBClassifier(base_score=None, booster=None, callbacks=None,\n",
       "              colsample_bylevel=None, colsample_bynode=None,\n",
       "              colsample_bytree=None, device=None, early_stopping_rounds=None,\n",
       "              enable_categorical=False, eval_metric=None, feature_types=None,\n",
       "              gamma=0, grow_policy=None, importance_type=None,\n",
       "              interaction_constraints=None, learning_rate=0.1, max_bin=None,\n",
       "              max_cat_threshold=None, max_cat_to_onehot=None,\n",
       "              max_delta_step=None, max_depth=7, max_leaves=None,\n",
       "              min_child_weight=None, missing=nan, monotone_constraints=None,\n",
       "              multi_strategy=None, n_estimators=1000, n_jobs=None,\n",
       "              num_parallel_tree=None, random_state=None, ...)"
      ]
     },
     "execution_count": 204,
     "metadata": {},
     "output_type": "execute_result"
    },
    {
     "name": "stdout",
     "output_type": "stream",
     "text": [
      "--- 2.66960072517395 seconds ---\n"
     ]
    }
   ],
   "source": [
    "start_time = time.time()\n",
    "\n",
    "xgb = XGBClassifier(\n",
    "    gamma = 0,\n",
    "    learning_rate = 0.1,\n",
    "    max_depth = 7,\n",
    "    n_estimators = 1000\n",
    ")\n",
    "xgb.fit(X_train, y_train)\n",
    "\n",
    "xgb_time = time.time() - start_time\n",
    "print(\"--- %s seconds ---\" % (time.time() - start_time))"
   ]
  },
  {
   "cell_type": "code",
   "execution_count": 205,
   "metadata": {},
   "outputs": [
    {
     "name": "stdout",
     "output_type": "stream",
     "text": [
      "Feature importance of Gradient Boosting Model\n"
     ]
    },
    {
     "data": {
      "text/plain": [
       "<Axes: >"
      ]
     },
     "execution_count": 205,
     "metadata": {},
     "output_type": "execute_result"
    },
    {
     "data": {
      "image/png": "[encoded data removed]",
      "text/plain": [
       "<Figure size 500x500 with 1 Axes>"
      ]
     },
     "metadata": {},
     "output_type": "display_data"
    }
   ],
   "source": [
    "# Check feature importance and display in bar plot.\n",
    "print('Feature importance of Gradient Boosting Model')\n",
    "plt.style.use('ggplot')\n",
    "fig = plt.figure(figsize=(5, 5))\n",
    "feat_importances = pd.Series(xgb.feature_importances_, index=X_train.columns)\n",
    "feat_importances.nsmallest(5).plot(kind='barh', alpha=0.7)\n",
    "fig.savefig('xgb_feature.png')"
   ]
  },
  {
   "cell_type": "code",
   "execution_count": 206,
   "metadata": {},
   "outputs": [
    {
     "name": "stdout",
     "output_type": "stream",
     "text": [
      "Gradient Boosting Accuracy: 0.998\n"
     ]
    }
   ],
   "source": [
    "# Accuracy\n",
    "y_xgb_pred = xgb.predict(X_test)\n",
    "print(f\"Gradient Boosting Accuracy: {accuracy_score(y_xgb_pred, y_test):.3f}\")"
   ]
  },
  {
   "cell_type": "code",
   "execution_count": 207,
   "metadata": {},
   "outputs": [
    {
     "data": {
      "text/plain": [
       "<Figure size 500x500 with 0 Axes>"
      ]
     },
     "execution_count": 207,
     "metadata": {},
     "output_type": "execute_result"
    },
    {
     "data": {
      "text/plain": [
       "[<matplotlib.lines.Line2D at 0x29a35f9e190>]"
      ]
     },
     "execution_count": 207,
     "metadata": {},
     "output_type": "execute_result"
    },
    {
     "data": {
      "text/plain": [
       "[<matplotlib.lines.Line2D at 0x29a35ff1550>]"
      ]
     },
     "execution_count": 207,
     "metadata": {},
     "output_type": "execute_result"
    },
    {
     "data": {
      "text/plain": [
       "(0.0, 1.0)"
      ]
     },
     "execution_count": 207,
     "metadata": {},
     "output_type": "execute_result"
    },
    {
     "data": {
      "text/plain": [
       "(0.0, 1.005)"
      ]
     },
     "execution_count": 207,
     "metadata": {},
     "output_type": "execute_result"
    },
    {
     "data": {
      "text/plain": [
       "Text(0.5, 0, 'False Positive Rate')"
      ]
     },
     "execution_count": 207,
     "metadata": {},
     "output_type": "execute_result"
    },
    {
     "data": {
      "text/plain": [
       "Text(0, 0.5, 'True Positive Rate')"
      ]
     },
     "execution_count": 207,
     "metadata": {},
     "output_type": "execute_result"
    },
    {
     "data": {
      "text/plain": [
       "Text(0.5, 1.0, 'Receiver operating characteristic[XGB]')"
      ]
     },
     "execution_count": 207,
     "metadata": {},
     "output_type": "execute_result"
    },
    {
     "data": {
      "text/plain": [
       "<matplotlib.legend.Legend at 0x29a35f52590>"
      ]
     },
     "execution_count": 207,
     "metadata": {},
     "output_type": "execute_result"
    },
    {
     "data": {
      "image/png": "[encoded data removed]",
      "text/plain": [
       "<Figure size 500x500 with 1 Axes>"
      ]
     },
     "metadata": {},
     "output_type": "display_data"
    }
   ],
   "source": [
    "# Plot ROC in one graph\n",
    "y_xgb_score = xgb.predict_proba(X_test)[:, 1]\n",
    "fpr_xgb, tpr_xgb, _xgb = roc_curve(y_test, y_xgb_score)\n",
    "roc_xgb_auc = auc(fpr_xgb, tpr_xgb)\n",
    "\n",
    "plt.figure(figsize=(5, 5))\n",
    "plt.plot(fpr_xgb, tpr_xgb, label='XGB ROC curve (area = %0.2f)' % roc_xgb_auc)\n",
    "plt.plot([0, 1], [0, 1], 'k--')\n",
    "plt.xlim([0.0, 1.0])\n",
    "plt.ylim([0.0, 1.005])\n",
    "plt.xlabel('False Positive Rate')\n",
    "plt.ylabel('True Positive Rate')\n",
    "plt.title('Receiver operating characteristic[XGB]')\n",
    "plt.legend(loc=\"lower right\")\n",
    "plt.show()\n",
    "fig.savefig('roc_xgb_auc.png')"
   ]
  },
  {
   "cell_type": "code",
   "execution_count": 208,
   "metadata": {},
   "outputs": [
    {
     "name": "stdout",
     "output_type": "stream",
     "text": [
      "Classification Report of Gradient Boosting Model\n",
      "              precision    recall  f1-score   support\n",
      "\n",
      "         0.0       1.00      1.00      1.00     43331\n",
      "         1.0       0.99      1.00      0.99      6669\n",
      "\n",
      "    accuracy                           1.00     50000\n",
      "   macro avg       0.99      1.00      1.00     50000\n",
      "weighted avg       1.00      1.00      1.00     50000\n",
      "\n"
     ]
    }
   ],
   "source": [
    "print('Classification Report of Gradient Boosting Model')\n",
    "print(classification_report(y_test, y_xgb_pred))"
   ]
  },
  {
   "cell_type": "markdown",
   "metadata": {},
   "source": [
    "### Model Comparings"
   ]
  },
  {
   "cell_type": "code",
   "execution_count": 209,
   "metadata": {},
   "outputs": [],
   "source": [
    "from sklearn.metrics import roc_auc_score\n",
    "\n",
    "\n",
    "dt_metrics = [accuracy_score(y_test, y_dt_pred), precision_score(y_test, y_dt_pred),\n",
    "              recall_score(y_test, y_dt_pred), f1_score(\n",
    "                  y_test, y_dt_pred),\n",
    "              roc_auc_score(y_test, y_dt_pred), dt_time]\n",
    "rf_metrics = [accuracy_score(y_test, y_rf_pred), precision_score(y_test, y_rf_pred),\n",
    "              recall_score(y_test, y_rf_pred), f1_score(\n",
    "                  y_test, y_rf_pred),\n",
    "              roc_auc_score(y_test, y_rf_pred), rf_time]\n",
    "gb_metrics = [accuracy_score(y_test, y_gb_pred), precision_score(y_test, y_gb_pred),\n",
    "              recall_score(y_test, y_gb_pred), f1_score(\n",
    "                  y_test, y_gb_pred),\n",
    "              roc_auc_score(y_test, y_gb_pred), gb_time]\n",
    "xgb_metrics = [accuracy_score(y_test, y_xgb_pred), precision_score(y_test, y_xgb_pred),\n",
    "              recall_score(y_test, y_xgb_pred), f1_score(\n",
    "                  y_test, y_xgb_pred),\n",
    "              roc_auc_score(y_test, y_xgb_pred), xgb_time]"
   ]
  },
  {
   "cell_type": "code",
   "execution_count": 212,
   "metadata": {},
   "outputs": [
    {
     "data": {
      "text/plain": [
       "Text(0.5, 1.0, 'Model Comparison')"
      ]
     },
     "execution_count": 212,
     "metadata": {},
     "output_type": "execute_result"
    },
    {
     "data": {
      "text/plain": [
       "Text(0, 0.5, 'Score')"
      ]
     },
     "execution_count": 212,
     "metadata": {},
     "output_type": "execute_result"
    },
    {
     "data": {
      "text/plain": [
       "([<matplotlib.axis.XTick at 0x29a48445b90>,\n",
       "  <matplotlib.axis.XTick at 0x29a4843ec10>,\n",
       "  <matplotlib.axis.XTick at 0x29a48446e50>,\n",
       "  <matplotlib.axis.XTick at 0x29a52ffd0d0>,\n",
       "  <matplotlib.axis.XTick at 0x29a52fff290>],\n",
       " [Text(0.30000000000000004, 0, 'Accuracy'),\n",
       "  Text(1.3, 0, 'Precision'),\n",
       "  Text(2.3, 0, 'Recall'),\n",
       "  Text(3.3, 0, 'F1'),\n",
       "  Text(4.3, 0, 'ROC AUC')])"
      ]
     },
     "execution_count": 212,
     "metadata": {},
     "output_type": "execute_result"
    },
    {
     "data": {
      "text/plain": [
       "<matplotlib.legend.Legend at 0x29a52fd6d90>"
      ]
     },
     "execution_count": 212,
     "metadata": {},
     "output_type": "execute_result"
    },
    {
     "data": {
      "image/png": "[encoded data removed]",
      "text/plain": [
       "<Figure size 1000x800 with 1 Axes>"
      ]
     },
     "metadata": {},
     "output_type": "display_data"
    }
   ],
   "source": [
    "fig, ax = plt.subplots(figsize=(10, 8))\n",
    "index = np.arange(5)\n",
    "width = 0.2\n",
    "\n",
    "b1 = plt.bar(index, dt_metrics[0:5], width, alpha=0.4, color='grey', label='DecisionTree')\n",
    "b2 = plt.bar(index + width, rf_metrics[0:5], width, alpha=0.8, color='powderblue', label='RandomForest')\n",
    "b3 = plt.bar(index + 2 * width, gb_metrics[0:5], width, alpha=0.8, color='pink', label='GradientBoosting')\n",
    "b4 = plt.bar(index + 3 * width, xgb_metrics[0:5], width, alpha=0.8, color='lightgreen', label='XGBoost')\n",
    "\n",
    "plt.title('Model Comparison')\n",
    "plt.ylabel('Score')\n",
    "plt.xticks(index + 1.5 * width, ('Accuracy', 'Precision', 'Recall', 'F1', 'ROC AUC'))\n",
    "plt.legend(loc='lower center', ncol=3, mode=\"expand\", borderaxespad=0.)\n",
    "\n",
    "plt.show()\n",
    "fig.savefig('model_comparison.png')"
   ]
  },
  {
   "cell_type": "code",
   "execution_count": 211,
   "metadata": {},
   "outputs": [
    {
     "data": {
      "text/html": [
       "<div>\n",
       "<style scoped>\n",
       "    .dataframe tbody tr th:only-of-type {\n",
       "        vertical-align: middle;\n",
       "    }\n",
       "\n",
       "    .dataframe tbody tr th {\n",
       "        vertical-align: top;\n",
       "    }\n",
       "\n",
       "    .dataframe thead th {\n",
       "        text-align: right;\n",
       "    }\n",
       "</style>\n",
       "<table border=\"1\" class=\"dataframe\">\n",
       "  <thead>\n",
       "    <tr style=\"text-align: right;\">\n",
       "      <th></th>\n",
       "      <th>Decision Tree</th>\n",
       "      <th>Random Forest</th>\n",
       "      <th>Gradient Boosting</th>\n",
       "      <th>XGBoost</th>\n",
       "    </tr>\n",
       "  </thead>\n",
       "  <tbody>\n",
       "    <tr>\n",
       "      <th>Accuracy_score</th>\n",
       "      <td>0.850</td>\n",
       "      <td>0.928</td>\n",
       "      <td>0.980</td>\n",
       "      <td>0.998</td>\n",
       "    </tr>\n",
       "    <tr>\n",
       "      <th>Precision_score</th>\n",
       "      <td>0.467</td>\n",
       "      <td>0.685</td>\n",
       "      <td>0.879</td>\n",
       "      <td>0.989</td>\n",
       "    </tr>\n",
       "    <tr>\n",
       "      <th>Recall_Score</th>\n",
       "      <td>0.855</td>\n",
       "      <td>0.851</td>\n",
       "      <td>0.985</td>\n",
       "      <td>0.999</td>\n",
       "    </tr>\n",
       "    <tr>\n",
       "      <th>F1_score</th>\n",
       "      <td>0.604</td>\n",
       "      <td>0.759</td>\n",
       "      <td>0.929</td>\n",
       "      <td>0.994</td>\n",
       "    </tr>\n",
       "    <tr>\n",
       "      <th>ROC_AUC_score</th>\n",
       "      <td>0.852</td>\n",
       "      <td>0.895</td>\n",
       "      <td>0.982</td>\n",
       "      <td>0.999</td>\n",
       "    </tr>\n",
       "    <tr>\n",
       "      <th>Time(s)</th>\n",
       "      <td>0.053</td>\n",
       "      <td>1461.754</td>\n",
       "      <td>2.450</td>\n",
       "      <td>2.670</td>\n",
       "    </tr>\n",
       "  </tbody>\n",
       "</table>\n",
       "</div>"
      ],
      "text/plain": [
       "                 Decision Tree  Random Forest  Gradient Boosting  XGBoost\n",
       "Accuracy_score           0.850          0.928              0.980    0.998\n",
       "Precision_score          0.467          0.685              0.879    0.989\n",
       "Recall_Score             0.855          0.851              0.985    0.999\n",
       "F1_score                 0.604          0.759              0.929    0.994\n",
       "ROC_AUC_score            0.852          0.895              0.982    0.999\n",
       "Time(s)                  0.053       1461.754              2.450    2.670"
      ]
     },
     "execution_count": 211,
     "metadata": {},
     "output_type": "execute_result"
    }
   ],
   "source": [
    "# different metric and different models\n",
    "label = [\"Accuracy_score\", \"Precision_score\",\n",
    "         \"Recall_Score\", \"F1_score\", \"ROC_AUC_score\", \"Time(s)\"]\n",
    "table = pd.DataFrame({'Decision Tree': dt_metrics,\n",
    "                      'Random Forest': rf_metrics, 'Gradient Boosting': gb_metrics, 'XGBoost': xgb_metrics})\n",
    "table = table.transpose()\n",
    "table.columns = label\n",
    "table.transpose().round(3)"
   ]
  },
  {
   "cell_type": "markdown",
   "metadata": {},
   "source": [
    "### Conclusion:\n",
    "\n",
    "XGBoost emerged as the best performing model across all key metrics (accuracy, precision, recall, F1 score, and ROC AUC score), demonstrating its ability to handle complex data and produce highly accurate and reliable predictions. However, this performance comes at the cost of increased training time compared to Gradient Boosting. Gradient Boosting also showed strong performance, particularly in recall and F1 score, making it a viable alternative when slightly faster training time is desired. Random Forest, while performing well in accuracy and recall, took significantly longer to train and had lower precision and F1 scores. The Decision Tree, although the fastest to train, had the lowest performance across most metrics, making it less suitable for this task. Overall, XGBoost is recommended for scenarios where model performance is critical, and slightly longer training times are acceptable."
   ]
  }
 ],
 "metadata": {
  "kernelspec": {
   "display_name": "base",
   "language": "python",
   "name": "python3"
  },
  "language_info": {
   "codemirror_mode": {
    "name": "ipython",
    "version": 3
   },
   "file_extension": ".py",
   "mimetype": "text/x-python",
   "name": "python",
   "nbconvert_exporter": "python",
   "pygments_lexer": "ipython3",
   "version": "3.11.7"
  }
 },
 "nbformat": 4,
 "nbformat_minor": 2
}
